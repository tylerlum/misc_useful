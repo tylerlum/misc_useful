{
 "cells": [
  {
   "cell_type": "markdown",
   "id": "873e8629",
   "metadata": {},
   "source": [
    "# Only Local Vars Decorator\n",
    "\n",
    "The purpose of this notebook is to show how to create a decorator to ensure a function only uses local variables. This ensures that the function does not accidentally use global or nonlocal variables from the global scope, which can avoid many common bugs.\n",
    "\n",
    "Important notes:\n",
    "\n",
    "* Global variables are variables defined in the global scope that can be read from anywhere in the file after the variable is created\n",
    "\n",
    "* Nonlocal variables only exist in the context of nested functions, in which we have an outer function and an inner function defined within the outer function. From within the inner function, the variables defined in the outer function can be read, and these are called nonlocal variables."
   ]
  },
  {
   "cell_type": "markdown",
   "id": "e04159df",
   "metadata": {},
   "source": [
    "## Create `only_local_vars` Decorator"
   ]
  },
  {
   "cell_type": "code",
   "execution_count": 91,
   "id": "36707434",
   "metadata": {
    "ExecuteTime": {
     "end_time": "2022-04-26T09:01:54.604636Z",
     "start_time": "2022-04-26T09:01:54.582448Z"
    }
   },
   "outputs": [],
   "source": [
    "import inspect\n",
    "import types\n",
    "\n",
    "def is_variable(x):\n",
    "    is_module = isinstance(x, types.ModuleType)\n",
    "    is_function = hasattr(x, '__call__')\n",
    "    return not is_module and not is_function\n",
    "\n",
    "def only_local_vars(f):\n",
    "    def check_for_global_and_nonlocal_vars(*args, **kwargs):\n",
    "        # Check for nonlocal and global variables\n",
    "        closure_vars = inspect.getclosurevars(f)\n",
    "        nonlocal_vars = {name: val for name, val in closure_vars.nonlocals.items() if is_variable(val)}\n",
    "        global_vars = {name: val for name, val in closure_vars.globals.items() if is_variable(val)}\n",
    "        \n",
    "        # Assertions\n",
    "        if len(nonlocal_vars) > 0:\n",
    "            raise AssertionError(f\"The function '{f.__name__}' should not be using the following nonlocal vars: {nonlocal_vars}\")\n",
    "        if len(global_vars) > 0:\n",
    "            raise AssertionError(f\"The function '{f.__name__}' should not be using the following global vars: {global_vars}\")\n",
    "        \n",
    "        # Run function\n",
    "        return f(*args, **kwargs)\n",
    "    return check_for_global_and_nonlocal_vars"
   ]
  },
  {
   "cell_type": "markdown",
   "id": "67d4bd2a",
   "metadata": {},
   "source": [
    "## Test `only_local_vars`"
   ]
  },
  {
   "cell_type": "code",
   "execution_count": 92,
   "id": "99d18275",
   "metadata": {
    "ExecuteTime": {
     "end_time": "2022-04-26T09:01:55.539785Z",
     "start_time": "2022-04-26T09:01:55.524745Z"
    }
   },
   "outputs": [],
   "source": [
    "# BEST\n",
    "@only_local_vars\n",
    "def test_only_local_vars_GOOD(x, repeat):\n",
    "    return np.array([x]*repeat)\n",
    "\n",
    "@only_local_vars\n",
    "def test_only_local_vars_typo_GOOD(x_typo, repeat_typo):\n",
    "    return np.array([x]*repeat)\n",
    "\n",
    "@only_local_vars\n",
    "def test_only_local_vars_nested_GOOD(x, repeat=10):\n",
    "    @only_local_vars\n",
    "    def helper(x, repeat):\n",
    "        return np.array([x]*repeat)\n",
    "    return helper(x, repeat)\n",
    "\n",
    "@only_local_vars\n",
    "def test_only_local_vars_nested_typo_GOOD(x, repeat=10):\n",
    "    @only_local_vars\n",
    "    def helper(x_typo, repeat_typo):\n",
    "        return np.array([x]*repeat)\n",
    "    return helper(x, repeat)"
   ]
  },
  {
   "cell_type": "markdown",
   "id": "4297b5eb",
   "metadata": {},
   "source": [
    "##  Create Alternative that Fail"
   ]
  },
  {
   "cell_type": "code",
   "execution_count": 93,
   "id": "0dd9fa1f",
   "metadata": {
    "ExecuteTime": {
     "end_time": "2022-04-26T09:01:55.870468Z",
     "start_time": "2022-04-26T09:01:55.848688Z"
    }
   },
   "outputs": [],
   "source": [
    "# BAD\n",
    "def test_baseline_GOOD(x, repeat):\n",
    "    return np.array([x]*repeat)\n",
    "\n",
    "def test_baseline_typo_BAD(x_typo, repeat_typo):\n",
    "    return np.array([x]*repeat)\n",
    "\n",
    "def test_baseline_nested_GOOD(x, repeat=10):\n",
    "    def helper(x, repeat):\n",
    "        return np.array([x]*repeat)\n",
    "    return helper(x, repeat)\n",
    "\n",
    "def test_baseline_nested_typo_BAD(x, repeat=10):\n",
    "    def helper(x_typo, repeat_typo):\n",
    "        return np.array([x]*repeat)\n",
    "    return helper(x, repeat)"
   ]
  },
  {
   "cell_type": "code",
   "execution_count": 94,
   "id": "95fe3247",
   "metadata": {
    "ExecuteTime": {
     "end_time": "2022-04-26T09:01:55.965197Z",
     "start_time": "2022-04-26T09:01:55.944625Z"
    }
   },
   "outputs": [],
   "source": [
    "# Create global variables with the same variable name\n",
    "x = 1\n",
    "repeat = 2"
   ]
  },
  {
   "cell_type": "markdown",
   "id": "f6332011",
   "metadata": {},
   "source": [
    "## Show working `only_local_vars`"
   ]
  },
  {
   "cell_type": "code",
   "execution_count": 95,
   "id": "a39699ce",
   "metadata": {
    "ExecuteTime": {
     "end_time": "2022-04-26T09:01:57.376050Z",
     "start_time": "2022-04-26T09:01:57.353616Z"
    }
   },
   "outputs": [
    {
     "name": "stdout",
     "output_type": "stream",
     "text": [
      "GOOD: CORRECT OUTPUT\n",
      "test_only_local_vars_GOOD(x, repeat) = [1 1]\n",
      "test_only_local_vars_GOOD(5, 10) = [5 5 5 5 5 5 5 5 5 5]\n"
     ]
    }
   ],
   "source": [
    "# GOOD\n",
    "print(\"GOOD: CORRECT OUTPUT\")\n",
    "print(f\"test_only_local_vars_GOOD(x, repeat) = {test_only_local_vars_GOOD(x, repeat)}\")\n",
    "print(f\"test_only_local_vars_GOOD(5, 10) = {test_only_local_vars_GOOD(5, 10)}\")"
   ]
  },
  {
   "cell_type": "code",
   "execution_count": 96,
   "id": "36ad9f5d",
   "metadata": {
    "ExecuteTime": {
     "end_time": "2022-04-26T09:01:58.719735Z",
     "start_time": "2022-04-26T09:01:58.634651Z"
    }
   },
   "outputs": [
    {
     "name": "stdout",
     "output_type": "stream",
     "text": [
      "GOOD: ERROR FROM TYPO\n"
     ]
    },
    {
     "ename": "AssertionError",
     "evalue": "The function 'test_only_local_vars_typo_GOOD' should not be using the following global vars from : {'x': 1, 'repeat': 2}",
     "output_type": "error",
     "traceback": [
      "\u001b[1;31m---------------------------------------------------------------------------\u001b[0m",
      "\u001b[1;31mAssertionError\u001b[0m                            Traceback (most recent call last)",
      "Input \u001b[1;32mIn [96]\u001b[0m, in \u001b[0;36m<cell line: 3>\u001b[1;34m()\u001b[0m\n\u001b[0;32m      1\u001b[0m \u001b[38;5;66;03m# GOOD\u001b[39;00m\n\u001b[0;32m      2\u001b[0m \u001b[38;5;28mprint\u001b[39m(\u001b[38;5;124m\"\u001b[39m\u001b[38;5;124mGOOD: ERROR FROM TYPO\u001b[39m\u001b[38;5;124m\"\u001b[39m)\n\u001b[1;32m----> 3\u001b[0m \u001b[38;5;28mprint\u001b[39m(\u001b[38;5;124mf\u001b[39m\u001b[38;5;124m\"\u001b[39m\u001b[38;5;124mtest_only_local_vars_typo_GOOD(x, repeat) = \u001b[39m\u001b[38;5;132;01m{\u001b[39;00mtest_only_local_vars_typo_GOOD(x, repeat)\u001b[38;5;132;01m}\u001b[39;00m\u001b[38;5;124m\"\u001b[39m)\n\u001b[0;32m      4\u001b[0m \u001b[38;5;28mprint\u001b[39m(\u001b[38;5;124mf\u001b[39m\u001b[38;5;124m\"\u001b[39m\u001b[38;5;124mtest_only_local_vars_typo_GOOD(5, 10) = \u001b[39m\u001b[38;5;132;01m{\u001b[39;00mtest_only_local_vars_typo_GOOD(\u001b[38;5;241m5\u001b[39m, \u001b[38;5;241m10\u001b[39m)\u001b[38;5;132;01m}\u001b[39;00m\u001b[38;5;124m\"\u001b[39m)\n",
      "Input \u001b[1;32mIn [91]\u001b[0m, in \u001b[0;36monly_local_vars.<locals>.check_for_global_and_nonlocal_vars\u001b[1;34m(*args, **kwargs)\u001b[0m\n\u001b[0;32m     15\u001b[0m     \u001b[38;5;28;01mraise\u001b[39;00m \u001b[38;5;167;01mAssertionError\u001b[39;00m(\u001b[38;5;124mf\u001b[39m\u001b[38;5;124m\"\u001b[39m\u001b[38;5;124mThe function \u001b[39m\u001b[38;5;124m'\u001b[39m\u001b[38;5;132;01m{\u001b[39;00mf\u001b[38;5;241m.\u001b[39m\u001b[38;5;18m__name__\u001b[39m\u001b[38;5;132;01m}\u001b[39;00m\u001b[38;5;124m'\u001b[39m\u001b[38;5;124m should not be using the following nonlocal vars from : \u001b[39m\u001b[38;5;132;01m{\u001b[39;00mnonlocal_vars\u001b[38;5;132;01m}\u001b[39;00m\u001b[38;5;124m\"\u001b[39m)\n\u001b[0;32m     16\u001b[0m \u001b[38;5;28;01mif\u001b[39;00m \u001b[38;5;28mlen\u001b[39m(global_vars) \u001b[38;5;241m>\u001b[39m \u001b[38;5;241m0\u001b[39m:\n\u001b[1;32m---> 17\u001b[0m     \u001b[38;5;28;01mraise\u001b[39;00m \u001b[38;5;167;01mAssertionError\u001b[39;00m(\u001b[38;5;124mf\u001b[39m\u001b[38;5;124m\"\u001b[39m\u001b[38;5;124mThe function \u001b[39m\u001b[38;5;124m'\u001b[39m\u001b[38;5;132;01m{\u001b[39;00mf\u001b[38;5;241m.\u001b[39m\u001b[38;5;18m__name__\u001b[39m\u001b[38;5;132;01m}\u001b[39;00m\u001b[38;5;124m'\u001b[39m\u001b[38;5;124m should not be using the following global vars from : \u001b[39m\u001b[38;5;132;01m{\u001b[39;00mglobal_vars\u001b[38;5;132;01m}\u001b[39;00m\u001b[38;5;124m\"\u001b[39m)\n\u001b[0;32m     18\u001b[0m \u001b[38;5;28;01mreturn\u001b[39;00m f(\u001b[38;5;241m*\u001b[39margs, \u001b[38;5;241m*\u001b[39m\u001b[38;5;241m*\u001b[39mkwargs)\n",
      "\u001b[1;31mAssertionError\u001b[0m: The function 'test_only_local_vars_typo_GOOD' should not be using the following global vars from : {'x': 1, 'repeat': 2}"
     ]
    }
   ],
   "source": [
    "# GOOD\n",
    "print(\"GOOD: ERROR FROM TYPO\")\n",
    "print(f\"test_only_local_vars_typo_GOOD(x, repeat) = {test_only_local_vars_typo_GOOD(x, repeat)}\")\n",
    "print(f\"test_only_local_vars_typo_GOOD(5, 10) = {test_only_local_vars_typo_GOOD(5, 10)}\")"
   ]
  },
  {
   "cell_type": "code",
   "execution_count": 97,
   "id": "93e33261",
   "metadata": {
    "ExecuteTime": {
     "end_time": "2022-04-26T09:01:58.923776Z",
     "start_time": "2022-04-26T09:01:58.898820Z"
    }
   },
   "outputs": [
    {
     "name": "stdout",
     "output_type": "stream",
     "text": [
      "GOOD: NESTED FUNCTION WORKS\n",
      "test_only_local_vars_nested_GOOD(x, repeat) = [1 1]\n",
      "test_only_local_vars_nested_GOOD(5, 10) = [5 5 5 5 5 5 5 5 5 5]\n"
     ]
    }
   ],
   "source": [
    "# GOOD\n",
    "print(\"GOOD: NESTED FUNCTION WORKS\")\n",
    "print(f\"test_only_local_vars_nested_GOOD(x, repeat) = {test_only_local_vars_nested_GOOD(x, repeat)}\")\n",
    "print(f\"test_only_local_vars_nested_GOOD(5, 10) = {test_only_local_vars_nested_GOOD(5, 10)}\")"
   ]
  },
  {
   "cell_type": "code",
   "execution_count": 98,
   "id": "7df05814",
   "metadata": {
    "ExecuteTime": {
     "end_time": "2022-04-26T09:01:59.347527Z",
     "start_time": "2022-04-26T09:01:59.241785Z"
    }
   },
   "outputs": [
    {
     "name": "stdout",
     "output_type": "stream",
     "text": [
      "GOOD: ERROR FROM NONLOCAL VARIABLE TYPO\n"
     ]
    },
    {
     "ename": "AssertionError",
     "evalue": "The function 'helper' should not be using the following nonlocal vars from : {'repeat': 2, 'x': 1}",
     "output_type": "error",
     "traceback": [
      "\u001b[1;31m---------------------------------------------------------------------------\u001b[0m",
      "\u001b[1;31mAssertionError\u001b[0m                            Traceback (most recent call last)",
      "Input \u001b[1;32mIn [98]\u001b[0m, in \u001b[0;36m<cell line: 3>\u001b[1;34m()\u001b[0m\n\u001b[0;32m      1\u001b[0m \u001b[38;5;66;03m# GOOD\u001b[39;00m\n\u001b[0;32m      2\u001b[0m \u001b[38;5;28mprint\u001b[39m(\u001b[38;5;124m\"\u001b[39m\u001b[38;5;124mGOOD: ERROR FROM NONLOCAL VARIABLE TYPO\u001b[39m\u001b[38;5;124m\"\u001b[39m)\n\u001b[1;32m----> 3\u001b[0m \u001b[38;5;28mprint\u001b[39m(\u001b[38;5;124mf\u001b[39m\u001b[38;5;124m\"\u001b[39m\u001b[38;5;124mtest_only_local_vars_nested_typo_GOOD(x, repeat) = \u001b[39m\u001b[38;5;132;01m{\u001b[39;00mtest_only_local_vars_nested_typo_GOOD(x, repeat)\u001b[38;5;132;01m}\u001b[39;00m\u001b[38;5;124m\"\u001b[39m)\n\u001b[0;32m      4\u001b[0m \u001b[38;5;28mprint\u001b[39m(\u001b[38;5;124mf\u001b[39m\u001b[38;5;124m\"\u001b[39m\u001b[38;5;124mtest_only_local_vars_nested_typo_GOOD(5, 10) = \u001b[39m\u001b[38;5;132;01m{\u001b[39;00mtest_only_local_vars_nested_typo_GOOD(\u001b[38;5;241m5\u001b[39m, \u001b[38;5;241m10\u001b[39m)\u001b[38;5;132;01m}\u001b[39;00m\u001b[38;5;124m\"\u001b[39m)\n",
      "Input \u001b[1;32mIn [91]\u001b[0m, in \u001b[0;36monly_local_vars.<locals>.check_for_global_and_nonlocal_vars\u001b[1;34m(*args, **kwargs)\u001b[0m\n\u001b[0;32m     16\u001b[0m \u001b[38;5;28;01mif\u001b[39;00m \u001b[38;5;28mlen\u001b[39m(global_vars) \u001b[38;5;241m>\u001b[39m \u001b[38;5;241m0\u001b[39m:\n\u001b[0;32m     17\u001b[0m     \u001b[38;5;28;01mraise\u001b[39;00m \u001b[38;5;167;01mAssertionError\u001b[39;00m(\u001b[38;5;124mf\u001b[39m\u001b[38;5;124m\"\u001b[39m\u001b[38;5;124mThe function \u001b[39m\u001b[38;5;124m'\u001b[39m\u001b[38;5;132;01m{\u001b[39;00mf\u001b[38;5;241m.\u001b[39m\u001b[38;5;18m__name__\u001b[39m\u001b[38;5;132;01m}\u001b[39;00m\u001b[38;5;124m'\u001b[39m\u001b[38;5;124m should not be using the following global vars from : \u001b[39m\u001b[38;5;132;01m{\u001b[39;00mglobal_vars\u001b[38;5;132;01m}\u001b[39;00m\u001b[38;5;124m\"\u001b[39m)\n\u001b[1;32m---> 18\u001b[0m \u001b[38;5;28;01mreturn\u001b[39;00m f(\u001b[38;5;241m*\u001b[39margs, \u001b[38;5;241m*\u001b[39m\u001b[38;5;241m*\u001b[39mkwargs)\n",
      "Input \u001b[1;32mIn [92]\u001b[0m, in \u001b[0;36mtest_only_local_vars_nested_typo_GOOD\u001b[1;34m(x, repeat)\u001b[0m\n\u001b[0;32m     19\u001b[0m \u001b[38;5;129m@only_local_vars\u001b[39m\n\u001b[0;32m     20\u001b[0m \u001b[38;5;28;01mdef\u001b[39;00m \u001b[38;5;21mhelper\u001b[39m(x_typo, repeat_typo):\n\u001b[0;32m     21\u001b[0m     \u001b[38;5;28;01mreturn\u001b[39;00m np\u001b[38;5;241m.\u001b[39marray([x]\u001b[38;5;241m*\u001b[39mrepeat)\n\u001b[1;32m---> 22\u001b[0m \u001b[38;5;28;01mreturn\u001b[39;00m \u001b[43mhelper\u001b[49m\u001b[43m(\u001b[49m\u001b[43mx\u001b[49m\u001b[43m,\u001b[49m\u001b[43m \u001b[49m\u001b[43mrepeat\u001b[49m\u001b[43m)\u001b[49m\n",
      "Input \u001b[1;32mIn [91]\u001b[0m, in \u001b[0;36monly_local_vars.<locals>.check_for_global_and_nonlocal_vars\u001b[1;34m(*args, **kwargs)\u001b[0m\n\u001b[0;32m     13\u001b[0m global_vars \u001b[38;5;241m=\u001b[39m {name: val \u001b[38;5;28;01mfor\u001b[39;00m name, val \u001b[38;5;129;01min\u001b[39;00m closure_vars\u001b[38;5;241m.\u001b[39mglobals\u001b[38;5;241m.\u001b[39mitems() \u001b[38;5;28;01mif\u001b[39;00m is_variable(val)}\n\u001b[0;32m     14\u001b[0m \u001b[38;5;28;01mif\u001b[39;00m \u001b[38;5;28mlen\u001b[39m(nonlocal_vars) \u001b[38;5;241m>\u001b[39m \u001b[38;5;241m0\u001b[39m:\n\u001b[1;32m---> 15\u001b[0m     \u001b[38;5;28;01mraise\u001b[39;00m \u001b[38;5;167;01mAssertionError\u001b[39;00m(\u001b[38;5;124mf\u001b[39m\u001b[38;5;124m\"\u001b[39m\u001b[38;5;124mThe function \u001b[39m\u001b[38;5;124m'\u001b[39m\u001b[38;5;132;01m{\u001b[39;00mf\u001b[38;5;241m.\u001b[39m\u001b[38;5;18m__name__\u001b[39m\u001b[38;5;132;01m}\u001b[39;00m\u001b[38;5;124m'\u001b[39m\u001b[38;5;124m should not be using the following nonlocal vars from : \u001b[39m\u001b[38;5;132;01m{\u001b[39;00mnonlocal_vars\u001b[38;5;132;01m}\u001b[39;00m\u001b[38;5;124m\"\u001b[39m)\n\u001b[0;32m     16\u001b[0m \u001b[38;5;28;01mif\u001b[39;00m \u001b[38;5;28mlen\u001b[39m(global_vars) \u001b[38;5;241m>\u001b[39m \u001b[38;5;241m0\u001b[39m:\n\u001b[0;32m     17\u001b[0m     \u001b[38;5;28;01mraise\u001b[39;00m \u001b[38;5;167;01mAssertionError\u001b[39;00m(\u001b[38;5;124mf\u001b[39m\u001b[38;5;124m\"\u001b[39m\u001b[38;5;124mThe function \u001b[39m\u001b[38;5;124m'\u001b[39m\u001b[38;5;132;01m{\u001b[39;00mf\u001b[38;5;241m.\u001b[39m\u001b[38;5;18m__name__\u001b[39m\u001b[38;5;132;01m}\u001b[39;00m\u001b[38;5;124m'\u001b[39m\u001b[38;5;124m should not be using the following global vars from : \u001b[39m\u001b[38;5;132;01m{\u001b[39;00mglobal_vars\u001b[38;5;132;01m}\u001b[39;00m\u001b[38;5;124m\"\u001b[39m)\n",
      "\u001b[1;31mAssertionError\u001b[0m: The function 'helper' should not be using the following nonlocal vars from : {'repeat': 2, 'x': 1}"
     ]
    }
   ],
   "source": [
    "# GOOD\n",
    "print(\"GOOD: ERROR FROM NONLOCAL VARIABLE TYPO\")\n",
    "print(f\"test_only_local_vars_nested_typo_GOOD(x, repeat) = {test_only_local_vars_nested_typo_GOOD(x, repeat)}\")\n",
    "print(f\"test_only_local_vars_nested_typo_GOOD(5, 10) = {test_only_local_vars_nested_typo_GOOD(5, 10)}\")"
   ]
  },
  {
   "cell_type": "markdown",
   "id": "644bd345",
   "metadata": {},
   "source": [
    "## Show not working `baseline`"
   ]
  },
  {
   "cell_type": "code",
   "execution_count": 99,
   "id": "7ab400e4",
   "metadata": {
    "ExecuteTime": {
     "end_time": "2022-04-26T09:05:06.642194Z",
     "start_time": "2022-04-26T09:05:06.620430Z"
    }
   },
   "outputs": [
    {
     "name": "stdout",
     "output_type": "stream",
     "text": [
      "GOOD: CORRECT OUTPUT\n",
      "test_baseline_GOOD(x, repeat) = [1 1]\n",
      "test_baseline_GOOD(5, 10) = [5 5 5 5 5 5 5 5 5 5]\n"
     ]
    }
   ],
   "source": [
    "# GOOD\n",
    "print(\"GOOD: CORRECT OUTPUT\")\n",
    "print(f\"test_baseline_GOOD(x, repeat) = {test_baseline_GOOD(x, repeat)}\")\n",
    "print(f\"test_baseline_GOOD(5, 10) = {test_baseline_GOOD(5, 10)}\")"
   ]
  },
  {
   "cell_type": "code",
   "execution_count": 100,
   "id": "c0756c77",
   "metadata": {
    "ExecuteTime": {
     "end_time": "2022-04-26T09:05:33.498637Z",
     "start_time": "2022-04-26T09:05:33.478839Z"
    }
   },
   "outputs": [
    {
     "name": "stdout",
     "output_type": "stream",
     "text": [
      "BAD: SUBTLE BUG FROM TYPO\n",
      "test_baseline_typo_BAD(x, repeat) = [1 1]\n",
      "test_baseline_typo_BAD(5, 10) = [1 1]\n"
     ]
    }
   ],
   "source": [
    "# BAD\n",
    "print(\"BAD: SUBTLE BUG FROM TYPO\")\n",
    "print(f\"test_baseline_typo_BAD(x, repeat) = {test_baseline_typo_BAD(x, repeat)}\")\n",
    "print(f\"test_baseline_typo_BAD(5, 10) = {test_baseline_typo_BAD(5, 10)}\")"
   ]
  },
  {
   "cell_type": "code",
   "execution_count": 101,
   "id": "3745c173",
   "metadata": {
    "ExecuteTime": {
     "end_time": "2022-04-26T09:06:05.455083Z",
     "start_time": "2022-04-26T09:06:05.432168Z"
    }
   },
   "outputs": [
    {
     "name": "stdout",
     "output_type": "stream",
     "text": [
      "GOOD: CORRECT OUTPUT\n",
      "test_baseline_nested_GOOD(x, repeat) = [1 1]\n",
      "test_baseline_nested_GOOD(5, 10) = [5 5 5 5 5 5 5 5 5 5]\n"
     ]
    }
   ],
   "source": [
    "# GOOD\n",
    "print(\"GOOD: CORRECT OUTPUT\")\n",
    "print(f\"test_baseline_nested_GOOD(x, repeat) = {test_baseline_nested_GOOD(x, repeat)}\")\n",
    "print(f\"test_baseline_nested_GOOD(5, 10) = {test_baseline_nested_GOOD(5, 10)}\")"
   ]
  },
  {
   "cell_type": "code",
   "execution_count": 102,
   "id": "e328542f",
   "metadata": {
    "ExecuteTime": {
     "end_time": "2022-04-26T09:06:30.562621Z",
     "start_time": "2022-04-26T09:06:30.546139Z"
    }
   },
   "outputs": [
    {
     "name": "stdout",
     "output_type": "stream",
     "text": [
      "BAD: SUBTLE BUG FROM TYPO\n",
      "test_baseline_nested_typo_BAD(x, repeat) = [1 1]\n",
      "test_baseline_nested_typo_BAD(5, 10) = [5 5 5 5 5 5 5 5 5 5]\n"
     ]
    }
   ],
   "source": [
    "# BAD\n",
    "print(\"BAD: SUBTLE BUG FROM TYPO\")\n",
    "print(f\"test_baseline_nested_typo_BAD(x, repeat) = {test_baseline_nested_typo_BAD(x, repeat)}\")\n",
    "print(f\"test_baseline_nested_typo_BAD(5, 10) = {test_baseline_nested_typo_BAD(5, 10)}\")"
   ]
  }
 ],
 "metadata": {
  "jupytext": {
   "cell_metadata_filter": "-all",
   "main_language": "python",
   "notebook_metadata_filter": "-all"
  },
  "kernelspec": {
   "display_name": "Python 3 (ipykernel)",
   "language": "python",
   "name": "python3"
  },
  "language_info": {
   "codemirror_mode": {
    "name": "ipython",
    "version": 3
   },
   "file_extension": ".py",
   "mimetype": "text/x-python",
   "name": "python",
   "nbconvert_exporter": "python",
   "pygments_lexer": "ipython3",
   "version": "3.9.7"
  },
  "toc": {
   "base_numbering": 1,
   "nav_menu": {},
   "number_sections": true,
   "sideBar": true,
   "skip_h1_title": false,
   "title_cell": "Table of Contents",
   "title_sidebar": "Contents",
   "toc_cell": false,
   "toc_position": {},
   "toc_section_display": true,
   "toc_window_display": false
  },
  "varInspector": {
   "cols": {
    "lenName": 16,
    "lenType": 16,
    "lenVar": 40
   },
   "kernels_config": {
    "python": {
     "delete_cmd_postfix": "",
     "delete_cmd_prefix": "del ",
     "library": "var_list.py",
     "varRefreshCmd": "print(var_dic_list())"
    },
    "r": {
     "delete_cmd_postfix": ") ",
     "delete_cmd_prefix": "rm(",
     "library": "var_list.r",
     "varRefreshCmd": "cat(var_dic_list()) "
    }
   },
   "types_to_exclude": [
    "module",
    "function",
    "builtin_function_or_method",
    "instance",
    "_Feature"
   ],
   "window_display": false
  }
 },
 "nbformat": 4,
 "nbformat_minor": 5
}
