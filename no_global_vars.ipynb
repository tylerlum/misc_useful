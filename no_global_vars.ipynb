{
 "cells": [
  {
   "cell_type": "markdown",
   "id": "873e8629",
   "metadata": {},
   "source": [
    "# No Globals Vars Decorator\n",
    "\n",
    "The purpose of this notebook is to show how to create a decorator to ensure a function does not erroneously read from global variables. This ensures that the function does not use variables from the global scope, which can avoid many common bugs.\n",
    "\n",
    "Important notes:\n",
    "\n",
    "* If done naively, the local scope will have no modules or functions. This is very frustrating, as you would need to import everything again\n",
    "\n",
    "* We can explicitly keep the global scope's modules and functions. However, this implementation only stores the modules and functions at the time of the function definition, so be sure to have everything you need by there!"
   ]
  },
  {
   "cell_type": "markdown",
   "id": "e04159df",
   "metadata": {},
   "source": [
    "## Create `no_global_vars` Decorator"
   ]
  },
  {
   "cell_type": "code",
   "execution_count": 1,
   "id": "36707434",
   "metadata": {
    "ExecuteTime": {
     "end_time": "2022-04-22T19:50:08.296849Z",
     "start_time": "2022-04-22T19:50:08.293957Z"
    }
   },
   "outputs": [],
   "source": [
    "import types\n",
    "\n",
    "no_global_vars = lambda function: types.FunctionType(\n",
    "    function.__code__,\n",
    "    # Keep modules and functions in local scope\n",
    "    {global_name: global_val\n",
    "     for global_name, global_val in globals().items()\n",
    "     if isinstance(global_val, types.ModuleType)\n",
    "     or hasattr(global_val, '__call__')\n",
    "    },\n",
    "    function.__name__,\n",
    "    function.__defaults__,\n",
    "    function.__closure__,\n",
    ")"
   ]
  },
  {
   "cell_type": "markdown",
   "id": "67d4bd2a",
   "metadata": {},
   "source": [
    "## Test `no_global_vars`"
   ]
  },
  {
   "cell_type": "code",
   "execution_count": 2,
   "id": "99d18275",
   "metadata": {
    "ExecuteTime": {
     "end_time": "2022-04-22T19:50:08.367947Z",
     "start_time": "2022-04-22T19:50:08.298482Z"
    }
   },
   "outputs": [],
   "source": [
    "# Be sure to include necessary imports before creating function!\n",
    "import numpy as np\n",
    "\n",
    "# BEST\n",
    "@no_global_vars\n",
    "def test_no_global_vars_GOOD(x, repeat):\n",
    "    return np.array([x]*repeat)\n",
    "\n",
    "@no_global_vars\n",
    "def test_no_global_vars_typo_GOOD(x_typo, repeat_typo):\n",
    "    return np.array([x]*repeat)\n",
    "\n",
    "@no_global_vars\n",
    "def test_no_global_vars_default_arg_GOOD(x, repeat=10):\n",
    "    return np.array([x]*repeat)"
   ]
  },
  {
   "cell_type": "markdown",
   "id": "4297b5eb",
   "metadata": {},
   "source": [
    "##  Create Alternatives that Fail\n",
    "\n",
    "Note that most of these alternatives have their merits, but fail in common ways that are frustrating."
   ]
  },
  {
   "cell_type": "code",
   "execution_count": 3,
   "id": "23d8edb6",
   "metadata": {
    "ExecuteTime": {
     "end_time": "2022-04-22T19:50:08.371994Z",
     "start_time": "2022-04-22T19:50:08.368938Z"
    }
   },
   "outputs": [],
   "source": [
    "no_globals_at_all = lambda function: types.FunctionType(\n",
    "    function.__code__,\n",
    "    {},  # Completely empty local scope\n",
    "    function.__name__,\n",
    "    function.__defaults__,\n",
    "    function.__closure__,\n",
    ")\n",
    "\n",
    "no_global_vars_missing_info = lambda function: types.FunctionType(\n",
    "    function.__code__,\n",
    "    {global_name: global_val\n",
    "     for global_name, global_val in globals().items()\n",
    "     if isinstance(global_val, types.ModuleType)\n",
    "     or hasattr(global_val, '__call__')\n",
    "    },\n",
    "    # Missing things like default args\n",
    ")"
   ]
  },
  {
   "cell_type": "code",
   "execution_count": 4,
   "id": "0dd9fa1f",
   "metadata": {
    "ExecuteTime": {
     "end_time": "2022-04-22T19:50:08.378846Z",
     "start_time": "2022-04-22T19:50:08.373208Z"
    }
   },
   "outputs": [],
   "source": [
    "# BAD BASELINE 1: Use globals, hides variable name errors\n",
    "def test_with_globals_GOOD(x, repeat):\n",
    "    return np.array([x]*repeat)\n",
    "\n",
    "def test_with_globals_typo_BAD(x_typo, repeat_typo):\n",
    "    return np.array([x]*repeat)\n",
    "\n",
    "def test_with_globals_default_arg_GOOD(x, repeat=10):\n",
    "    return np.array([x]*repeat)\n",
    "\n",
    "# BAD BASELINE 2: No globals, modules, or functions at all\n",
    "@no_globals_at_all\n",
    "def test_no_globals_at_all_BAD(x, repeat):\n",
    "    return np.array([x]*repeat)\n",
    "\n",
    "@no_globals_at_all\n",
    "def test_no_globals_at_all_typo_BAD(x_typo, repeat_typo):\n",
    "    return np.array([x]*repeat)\n",
    "\n",
    "@no_globals_at_all\n",
    "def test_no_globals_at_all_default_arg_BAD(x, repeat=10):\n",
    "    return np.array([x]*repeat)\n",
    "\n",
    "# BAD BASELINE 3: Missing things like default args\n",
    "@no_global_vars_missing_info\n",
    "def test_no_global_vars_missing_info_GOOD(x, repeat):\n",
    "    return np.array([x]*repeat)\n",
    "\n",
    "@no_global_vars_missing_info\n",
    "def test_no_global_vars_missing_info_typo_GOOD(x_typo, repeat_typo):\n",
    "    return np.array([x]*repeat)\n",
    "\n",
    "@no_global_vars_missing_info\n",
    "def test_no_global_vars_missing_info_default_arg_BAD(x, repeat=10):\n",
    "    return np.array([x]*repeat)"
   ]
  },
  {
   "cell_type": "code",
   "execution_count": 5,
   "id": "95fe3247",
   "metadata": {
    "ExecuteTime": {
     "end_time": "2022-04-22T19:50:08.382931Z",
     "start_time": "2022-04-22T19:50:08.380104Z"
    }
   },
   "outputs": [],
   "source": [
    "# Create global variables with the same variable name\n",
    "x = 1\n",
    "repeat = 2"
   ]
  },
  {
   "cell_type": "markdown",
   "id": "f6332011",
   "metadata": {},
   "source": [
    "## Show working `no_global_vars`"
   ]
  },
  {
   "cell_type": "code",
   "execution_count": 6,
   "id": "a39699ce",
   "metadata": {
    "ExecuteTime": {
     "end_time": "2022-04-22T19:50:08.387161Z",
     "start_time": "2022-04-22T19:50:08.384086Z"
    }
   },
   "outputs": [
    {
     "name": "stdout",
     "output_type": "stream",
     "text": [
      "GOOD: CORRECT OUTPUT\n",
      "test_no_global_vars_GOOD(x, repeat) = [1 1]\n",
      "test_no_global_vars_GOOD(5, 10) = [5 5 5 5 5 5 5 5 5 5]\n"
     ]
    }
   ],
   "source": [
    "# GOOD\n",
    "print(\"GOOD: CORRECT OUTPUT\")\n",
    "print(f\"test_no_global_vars_GOOD(x, repeat) = {test_no_global_vars_GOOD(x, repeat)}\")\n",
    "print(f\"test_no_global_vars_GOOD(5, 10) = {test_no_global_vars_GOOD(5, 10)}\")"
   ]
  },
  {
   "cell_type": "code",
   "execution_count": 7,
   "id": "f32aada9",
   "metadata": {
    "ExecuteTime": {
     "end_time": "2022-04-22T19:50:08.441983Z",
     "start_time": "2022-04-22T19:50:08.388491Z"
    }
   },
   "outputs": [
    {
     "name": "stdout",
     "output_type": "stream",
     "text": [
      "GOOD: ERROR FROM TYPO\n"
     ]
    },
    {
     "ename": "NameError",
     "evalue": "name 'x' is not defined",
     "output_type": "error",
     "traceback": [
      "\u001b[0;31m---------------------------------------------------------------------------\u001b[0m",
      "\u001b[0;31mNameError\u001b[0m                                 Traceback (most recent call last)",
      "\u001b[0;32m/tmp/ipykernel_856/84413601.py\u001b[0m in \u001b[0;36m<module>\u001b[0;34m\u001b[0m\n\u001b[1;32m      1\u001b[0m \u001b[0;31m# GOOD\u001b[0m\u001b[0;34m\u001b[0m\u001b[0;34m\u001b[0m\u001b[0;34m\u001b[0m\u001b[0m\n\u001b[1;32m      2\u001b[0m \u001b[0mprint\u001b[0m\u001b[0;34m(\u001b[0m\u001b[0;34m\"GOOD: ERROR FROM TYPO\"\u001b[0m\u001b[0;34m)\u001b[0m\u001b[0;34m\u001b[0m\u001b[0;34m\u001b[0m\u001b[0m\n\u001b[0;32m----> 3\u001b[0;31m \u001b[0mprint\u001b[0m\u001b[0;34m(\u001b[0m\u001b[0;34mf\"test_no_global_vars_typo_GOOD(x, repeat) = {test_no_global_vars_typo_GOOD(x, repeat)}\"\u001b[0m\u001b[0;34m)\u001b[0m\u001b[0;34m\u001b[0m\u001b[0;34m\u001b[0m\u001b[0m\n\u001b[0m\u001b[1;32m      4\u001b[0m \u001b[0mprint\u001b[0m\u001b[0;34m(\u001b[0m\u001b[0;34mf\"test_no_global_vars_typo_GOOD(5, 10) = {test_no_global_vars_typo_GOOD(5, 10)}\"\u001b[0m\u001b[0;34m)\u001b[0m\u001b[0;34m\u001b[0m\u001b[0;34m\u001b[0m\u001b[0m\n",
      "\u001b[0;32m/tmp/ipykernel_856/719655081.py\u001b[0m in \u001b[0;36mtest_no_global_vars_typo_GOOD\u001b[0;34m(x_typo, repeat_typo)\u001b[0m\n\u001b[1;32m      9\u001b[0m \u001b[0;34m@\u001b[0m\u001b[0mno_global_vars\u001b[0m\u001b[0;34m\u001b[0m\u001b[0;34m\u001b[0m\u001b[0m\n\u001b[1;32m     10\u001b[0m \u001b[0;32mdef\u001b[0m \u001b[0mtest_no_global_vars_typo_GOOD\u001b[0m\u001b[0;34m(\u001b[0m\u001b[0mx_typo\u001b[0m\u001b[0;34m,\u001b[0m \u001b[0mrepeat_typo\u001b[0m\u001b[0;34m)\u001b[0m\u001b[0;34m:\u001b[0m\u001b[0;34m\u001b[0m\u001b[0;34m\u001b[0m\u001b[0m\n\u001b[0;32m---> 11\u001b[0;31m     \u001b[0;32mreturn\u001b[0m \u001b[0mnp\u001b[0m\u001b[0;34m.\u001b[0m\u001b[0marray\u001b[0m\u001b[0;34m(\u001b[0m\u001b[0;34m[\u001b[0m\u001b[0mx\u001b[0m\u001b[0;34m]\u001b[0m\u001b[0;34m*\u001b[0m\u001b[0mrepeat\u001b[0m\u001b[0;34m)\u001b[0m\u001b[0;34m\u001b[0m\u001b[0;34m\u001b[0m\u001b[0m\n\u001b[0m\u001b[1;32m     12\u001b[0m \u001b[0;34m\u001b[0m\u001b[0m\n\u001b[1;32m     13\u001b[0m \u001b[0;34m@\u001b[0m\u001b[0mno_global_vars\u001b[0m\u001b[0;34m\u001b[0m\u001b[0;34m\u001b[0m\u001b[0m\n",
      "\u001b[0;31mNameError\u001b[0m: name 'x' is not defined"
     ]
    }
   ],
   "source": [
    "# GOOD\n",
    "print(\"GOOD: ERROR FROM TYPO\")\n",
    "print(f\"test_no_global_vars_typo_GOOD(x, repeat) = {test_no_global_vars_typo_GOOD(x, repeat)}\")\n",
    "print(f\"test_no_global_vars_typo_GOOD(5, 10) = {test_no_global_vars_typo_GOOD(5, 10)}\")"
   ]
  },
  {
   "cell_type": "code",
   "execution_count": 8,
   "id": "93e33261",
   "metadata": {
    "ExecuteTime": {
     "end_time": "2022-04-22T19:50:16.720158Z",
     "start_time": "2022-04-22T19:50:16.716658Z"
    }
   },
   "outputs": [
    {
     "name": "stdout",
     "output_type": "stream",
     "text": [
      "GOOD: DEFAULT ARG WORKS\n",
      "test_no_global_vars_default_arg_GOOD(x) = [1 1 1 1 1 1 1 1 1 1]\n",
      "test_no_global_vars_default_arg_GOOD(5) = [5 5 5 5 5 5 5 5 5 5]\n"
     ]
    }
   ],
   "source": [
    "# GOOD\n",
    "print(\"GOOD: DEFAULT ARG WORKS\")\n",
    "print(f\"test_no_global_vars_default_arg_GOOD(x) = {test_no_global_vars_default_arg_GOOD(x)}\")\n",
    "print(f\"test_no_global_vars_default_arg_GOOD(5) = {test_no_global_vars_default_arg_GOOD(5)}\")"
   ]
  },
  {
   "cell_type": "markdown",
   "id": "644bd345",
   "metadata": {},
   "source": [
    "## Show not working `with_globals`"
   ]
  },
  {
   "cell_type": "code",
   "execution_count": 9,
   "id": "7ab400e4",
   "metadata": {
    "ExecuteTime": {
     "end_time": "2022-04-22T19:50:17.567963Z",
     "start_time": "2022-04-22T19:50:17.564638Z"
    }
   },
   "outputs": [
    {
     "name": "stdout",
     "output_type": "stream",
     "text": [
      "GOOD: CORRECT OUTPUT\n",
      "test_with_globals_GOOD(x, repeat) = [1 1]\n",
      "test_with_globals_GOOD(5, 10) = [5 5 5 5 5 5 5 5 5 5]\n"
     ]
    }
   ],
   "source": [
    "# GOOD\n",
    "print(\"GOOD: CORRECT OUTPUT\")\n",
    "print(f\"test_with_globals_GOOD(x, repeat) = {test_with_globals_GOOD(x, repeat)}\")\n",
    "print(f\"test_with_globals_GOOD(5, 10) = {test_with_globals_GOOD(5, 10)}\")"
   ]
  },
  {
   "cell_type": "code",
   "execution_count": 10,
   "id": "c0756c77",
   "metadata": {
    "ExecuteTime": {
     "end_time": "2022-04-22T19:50:18.162561Z",
     "start_time": "2022-04-22T19:50:18.159346Z"
    }
   },
   "outputs": [
    {
     "name": "stdout",
     "output_type": "stream",
     "text": [
      "BAD: BUG FROM TYPO\n",
      "test_with_globals_typo_BAD(x, repeat) = [1 1]\n",
      "test_with_globals_typo_BAD(5, 10) = [1 1]\n"
     ]
    }
   ],
   "source": [
    "# BAD\n",
    "print(\"BAD: BUG FROM TYPO\")\n",
    "print(f\"test_with_globals_typo_BAD(x, repeat) = {test_with_globals_typo_BAD(x, repeat)}\")\n",
    "print(f\"test_with_globals_typo_BAD(5, 10) = {test_with_globals_typo_BAD(5, 10)}\")"
   ]
  },
  {
   "cell_type": "code",
   "execution_count": 11,
   "id": "3745c173",
   "metadata": {
    "ExecuteTime": {
     "end_time": "2022-04-22T19:50:22.356769Z",
     "start_time": "2022-04-22T19:50:22.353313Z"
    }
   },
   "outputs": [
    {
     "name": "stdout",
     "output_type": "stream",
     "text": [
      "GOOD: DEFAULT ARG WORKS\n",
      "test_with_globals_default_arg_GOOD(x) = [1 1 1 1 1 1 1 1 1 1]\n",
      "test_with_globals_default_arg_GOOD(5) = [5 5 5 5 5 5 5 5 5 5]\n"
     ]
    }
   ],
   "source": [
    "# GOOD\n",
    "print(\"GOOD: DEFAULT ARG WORKS\")\n",
    "print(f\"test_with_globals_default_arg_GOOD(x) = {test_with_globals_default_arg_GOOD(x)}\")\n",
    "print(f\"test_with_globals_default_arg_GOOD(5) = {test_with_globals_default_arg_GOOD(5)}\")"
   ]
  },
  {
   "cell_type": "markdown",
   "id": "2e99198f",
   "metadata": {},
   "source": [
    "## Show not working `no_globals_at_all`"
   ]
  },
  {
   "cell_type": "code",
   "execution_count": 12,
   "id": "e328542f",
   "metadata": {
    "ExecuteTime": {
     "end_time": "2022-04-22T19:50:33.309820Z",
     "start_time": "2022-04-22T19:50:33.303819Z"
    }
   },
   "outputs": [
    {
     "name": "stdout",
     "output_type": "stream",
     "text": [
      "BAD: MISSING NP IMPORT\n"
     ]
    },
    {
     "ename": "NameError",
     "evalue": "name 'np' is not defined",
     "output_type": "error",
     "traceback": [
      "\u001b[0;31m---------------------------------------------------------------------------\u001b[0m",
      "\u001b[0;31mNameError\u001b[0m                                 Traceback (most recent call last)",
      "\u001b[0;32m/tmp/ipykernel_856/1345281470.py\u001b[0m in \u001b[0;36m<module>\u001b[0;34m\u001b[0m\n\u001b[1;32m      1\u001b[0m \u001b[0;31m# BAD\u001b[0m\u001b[0;34m\u001b[0m\u001b[0;34m\u001b[0m\u001b[0;34m\u001b[0m\u001b[0m\n\u001b[1;32m      2\u001b[0m \u001b[0mprint\u001b[0m\u001b[0;34m(\u001b[0m\u001b[0;34m\"BAD: MISSING NP IMPORT\"\u001b[0m\u001b[0;34m)\u001b[0m\u001b[0;34m\u001b[0m\u001b[0;34m\u001b[0m\u001b[0m\n\u001b[0;32m----> 3\u001b[0;31m \u001b[0mprint\u001b[0m\u001b[0;34m(\u001b[0m\u001b[0;34mf\"test_no_globals_at_all_BAD(x, repeat) = {test_no_globals_at_all_BAD(x, repeat)}\"\u001b[0m\u001b[0;34m)\u001b[0m\u001b[0;34m\u001b[0m\u001b[0;34m\u001b[0m\u001b[0m\n\u001b[0m\u001b[1;32m      4\u001b[0m \u001b[0mprint\u001b[0m\u001b[0;34m(\u001b[0m\u001b[0;34mf\"test_no_globals_at_all_BAD(5, 10) = {test_no_globals_at_all_BAD(5, 10)}\"\u001b[0m\u001b[0;34m)\u001b[0m\u001b[0;34m\u001b[0m\u001b[0;34m\u001b[0m\u001b[0m\n",
      "\u001b[0;32m/tmp/ipykernel_856/2376102327.py\u001b[0m in \u001b[0;36mtest_no_globals_at_all_BAD\u001b[0;34m(x, repeat)\u001b[0m\n\u001b[1;32m     12\u001b[0m \u001b[0;34m@\u001b[0m\u001b[0mno_globals_at_all\u001b[0m\u001b[0;34m\u001b[0m\u001b[0;34m\u001b[0m\u001b[0m\n\u001b[1;32m     13\u001b[0m \u001b[0;32mdef\u001b[0m \u001b[0mtest_no_globals_at_all_BAD\u001b[0m\u001b[0;34m(\u001b[0m\u001b[0mx\u001b[0m\u001b[0;34m,\u001b[0m \u001b[0mrepeat\u001b[0m\u001b[0;34m)\u001b[0m\u001b[0;34m:\u001b[0m\u001b[0;34m\u001b[0m\u001b[0;34m\u001b[0m\u001b[0m\n\u001b[0;32m---> 14\u001b[0;31m     \u001b[0;32mreturn\u001b[0m \u001b[0mnp\u001b[0m\u001b[0;34m.\u001b[0m\u001b[0marray\u001b[0m\u001b[0;34m(\u001b[0m\u001b[0;34m[\u001b[0m\u001b[0mx\u001b[0m\u001b[0;34m]\u001b[0m\u001b[0;34m*\u001b[0m\u001b[0mrepeat\u001b[0m\u001b[0;34m)\u001b[0m\u001b[0;34m\u001b[0m\u001b[0;34m\u001b[0m\u001b[0m\n\u001b[0m\u001b[1;32m     15\u001b[0m \u001b[0;34m\u001b[0m\u001b[0m\n\u001b[1;32m     16\u001b[0m \u001b[0;34m@\u001b[0m\u001b[0mno_globals_at_all\u001b[0m\u001b[0;34m\u001b[0m\u001b[0;34m\u001b[0m\u001b[0m\n",
      "\u001b[0;31mNameError\u001b[0m: name 'np' is not defined"
     ]
    }
   ],
   "source": [
    "# BAD\n",
    "print(\"BAD: MISSING NP IMPORT\")\n",
    "print(f\"test_no_globals_at_all_BAD(x, repeat) = {test_no_globals_at_all_BAD(x, repeat)}\")\n",
    "print(f\"test_no_globals_at_all_BAD(5, 10) = {test_no_globals_at_all_BAD(5, 10)}\")"
   ]
  },
  {
   "cell_type": "code",
   "execution_count": 13,
   "id": "bf995840",
   "metadata": {
    "ExecuteTime": {
     "end_time": "2022-04-22T19:50:33.604543Z",
     "start_time": "2022-04-22T19:50:33.597744Z"
    }
   },
   "outputs": [
    {
     "name": "stdout",
     "output_type": "stream",
     "text": [
      "BAD: MISSING NP IMPORT\n"
     ]
    },
    {
     "ename": "NameError",
     "evalue": "name 'np' is not defined",
     "output_type": "error",
     "traceback": [
      "\u001b[0;31m---------------------------------------------------------------------------\u001b[0m",
      "\u001b[0;31mNameError\u001b[0m                                 Traceback (most recent call last)",
      "\u001b[0;32m/tmp/ipykernel_856/998432218.py\u001b[0m in \u001b[0;36m<module>\u001b[0;34m\u001b[0m\n\u001b[1;32m      1\u001b[0m \u001b[0;31m# BAD\u001b[0m\u001b[0;34m\u001b[0m\u001b[0;34m\u001b[0m\u001b[0;34m\u001b[0m\u001b[0m\n\u001b[1;32m      2\u001b[0m \u001b[0mprint\u001b[0m\u001b[0;34m(\u001b[0m\u001b[0;34m\"BAD: MISSING NP IMPORT\"\u001b[0m\u001b[0;34m)\u001b[0m\u001b[0;34m\u001b[0m\u001b[0;34m\u001b[0m\u001b[0m\n\u001b[0;32m----> 3\u001b[0;31m \u001b[0mprint\u001b[0m\u001b[0;34m(\u001b[0m\u001b[0;34mf\"test_no_globals_at_all_typo_BAD(x, repeat) = {test_no_globals_at_all_typo_BAD(x, repeat)}\"\u001b[0m\u001b[0;34m)\u001b[0m\u001b[0;34m\u001b[0m\u001b[0;34m\u001b[0m\u001b[0m\n\u001b[0m\u001b[1;32m      4\u001b[0m \u001b[0mprint\u001b[0m\u001b[0;34m(\u001b[0m\u001b[0;34mf\"test_no_globals_at_all_typo_BAD(5, 10) = {test_no_globals_at_all_typo_BAD(5, 10)}\"\u001b[0m\u001b[0;34m)\u001b[0m\u001b[0;34m\u001b[0m\u001b[0;34m\u001b[0m\u001b[0m\n",
      "\u001b[0;32m/tmp/ipykernel_856/2376102327.py\u001b[0m in \u001b[0;36mtest_no_globals_at_all_typo_BAD\u001b[0;34m(x_typo, repeat_typo)\u001b[0m\n\u001b[1;32m     16\u001b[0m \u001b[0;34m@\u001b[0m\u001b[0mno_globals_at_all\u001b[0m\u001b[0;34m\u001b[0m\u001b[0;34m\u001b[0m\u001b[0m\n\u001b[1;32m     17\u001b[0m \u001b[0;32mdef\u001b[0m \u001b[0mtest_no_globals_at_all_typo_BAD\u001b[0m\u001b[0;34m(\u001b[0m\u001b[0mx_typo\u001b[0m\u001b[0;34m,\u001b[0m \u001b[0mrepeat_typo\u001b[0m\u001b[0;34m)\u001b[0m\u001b[0;34m:\u001b[0m\u001b[0;34m\u001b[0m\u001b[0;34m\u001b[0m\u001b[0m\n\u001b[0;32m---> 18\u001b[0;31m     \u001b[0;32mreturn\u001b[0m \u001b[0mnp\u001b[0m\u001b[0;34m.\u001b[0m\u001b[0marray\u001b[0m\u001b[0;34m(\u001b[0m\u001b[0;34m[\u001b[0m\u001b[0mx\u001b[0m\u001b[0;34m]\u001b[0m\u001b[0;34m*\u001b[0m\u001b[0mrepeat\u001b[0m\u001b[0;34m)\u001b[0m\u001b[0;34m\u001b[0m\u001b[0;34m\u001b[0m\u001b[0m\n\u001b[0m\u001b[1;32m     19\u001b[0m \u001b[0;34m\u001b[0m\u001b[0m\n\u001b[1;32m     20\u001b[0m \u001b[0;34m@\u001b[0m\u001b[0mno_globals_at_all\u001b[0m\u001b[0;34m\u001b[0m\u001b[0;34m\u001b[0m\u001b[0m\n",
      "\u001b[0;31mNameError\u001b[0m: name 'np' is not defined"
     ]
    }
   ],
   "source": [
    "# BAD\n",
    "print(\"BAD: MISSING NP IMPORT\")\n",
    "print(f\"test_no_globals_at_all_typo_BAD(x, repeat) = {test_no_globals_at_all_typo_BAD(x, repeat)}\")\n",
    "print(f\"test_no_globals_at_all_typo_BAD(5, 10) = {test_no_globals_at_all_typo_BAD(5, 10)}\")"
   ]
  },
  {
   "cell_type": "code",
   "execution_count": 14,
   "id": "1a2d2c30",
   "metadata": {
    "ExecuteTime": {
     "end_time": "2022-04-22T19:50:33.857343Z",
     "start_time": "2022-04-22T19:50:33.850551Z"
    }
   },
   "outputs": [
    {
     "name": "stdout",
     "output_type": "stream",
     "text": [
      "BAD: MISSING NP IMPORT\n"
     ]
    },
    {
     "ename": "NameError",
     "evalue": "name 'np' is not defined",
     "output_type": "error",
     "traceback": [
      "\u001b[0;31m---------------------------------------------------------------------------\u001b[0m",
      "\u001b[0;31mNameError\u001b[0m                                 Traceback (most recent call last)",
      "\u001b[0;32m/tmp/ipykernel_856/1803263289.py\u001b[0m in \u001b[0;36m<module>\u001b[0;34m\u001b[0m\n\u001b[1;32m      1\u001b[0m \u001b[0;31m# BAD\u001b[0m\u001b[0;34m\u001b[0m\u001b[0;34m\u001b[0m\u001b[0;34m\u001b[0m\u001b[0m\n\u001b[1;32m      2\u001b[0m \u001b[0mprint\u001b[0m\u001b[0;34m(\u001b[0m\u001b[0;34m\"BAD: MISSING NP IMPORT\"\u001b[0m\u001b[0;34m)\u001b[0m\u001b[0;34m\u001b[0m\u001b[0;34m\u001b[0m\u001b[0m\n\u001b[0;32m----> 3\u001b[0;31m \u001b[0mprint\u001b[0m\u001b[0;34m(\u001b[0m\u001b[0;34mf\"test_no_globals_at_all_default_arg_BAD(x) = {test_no_globals_at_all_default_arg_BAD(x)}\"\u001b[0m\u001b[0;34m)\u001b[0m\u001b[0;34m\u001b[0m\u001b[0;34m\u001b[0m\u001b[0m\n\u001b[0m\u001b[1;32m      4\u001b[0m \u001b[0mprint\u001b[0m\u001b[0;34m(\u001b[0m\u001b[0;34mf\"test_no_globals_at_all_default_arg_BAD(5) = {test_no_globals_at_all_default_arg_BAD(5)}\"\u001b[0m\u001b[0;34m)\u001b[0m\u001b[0;34m\u001b[0m\u001b[0;34m\u001b[0m\u001b[0m\n",
      "\u001b[0;32m/tmp/ipykernel_856/2376102327.py\u001b[0m in \u001b[0;36mtest_no_globals_at_all_default_arg_BAD\u001b[0;34m(x, repeat)\u001b[0m\n\u001b[1;32m     20\u001b[0m \u001b[0;34m@\u001b[0m\u001b[0mno_globals_at_all\u001b[0m\u001b[0;34m\u001b[0m\u001b[0;34m\u001b[0m\u001b[0m\n\u001b[1;32m     21\u001b[0m \u001b[0;32mdef\u001b[0m \u001b[0mtest_no_globals_at_all_default_arg_BAD\u001b[0m\u001b[0;34m(\u001b[0m\u001b[0mx\u001b[0m\u001b[0;34m,\u001b[0m \u001b[0mrepeat\u001b[0m\u001b[0;34m=\u001b[0m\u001b[0;36m10\u001b[0m\u001b[0;34m)\u001b[0m\u001b[0;34m:\u001b[0m\u001b[0;34m\u001b[0m\u001b[0;34m\u001b[0m\u001b[0m\n\u001b[0;32m---> 22\u001b[0;31m     \u001b[0;32mreturn\u001b[0m \u001b[0mnp\u001b[0m\u001b[0;34m.\u001b[0m\u001b[0marray\u001b[0m\u001b[0;34m(\u001b[0m\u001b[0;34m[\u001b[0m\u001b[0mx\u001b[0m\u001b[0;34m]\u001b[0m\u001b[0;34m*\u001b[0m\u001b[0mrepeat\u001b[0m\u001b[0;34m)\u001b[0m\u001b[0;34m\u001b[0m\u001b[0;34m\u001b[0m\u001b[0m\n\u001b[0m\u001b[1;32m     23\u001b[0m \u001b[0;34m\u001b[0m\u001b[0m\n\u001b[1;32m     24\u001b[0m \u001b[0;31m# BAD BASELINE 3: Missing things like default args\u001b[0m\u001b[0;34m\u001b[0m\u001b[0;34m\u001b[0m\u001b[0;34m\u001b[0m\u001b[0m\n",
      "\u001b[0;31mNameError\u001b[0m: name 'np' is not defined"
     ]
    }
   ],
   "source": [
    "# BAD\n",
    "print(\"BAD: MISSING NP IMPORT\")\n",
    "print(f\"test_no_globals_at_all_default_arg_BAD(x) = {test_no_globals_at_all_default_arg_BAD(x)}\")\n",
    "print(f\"test_no_globals_at_all_default_arg_BAD(5) = {test_no_globals_at_all_default_arg_BAD(5)}\")"
   ]
  },
  {
   "cell_type": "markdown",
   "id": "04368f63",
   "metadata": {},
   "source": [
    "## Show not working `no_global_vars_missing_info`"
   ]
  },
  {
   "cell_type": "code",
   "execution_count": 15,
   "id": "23f07dd8",
   "metadata": {
    "ExecuteTime": {
     "end_time": "2022-04-22T19:50:34.465152Z",
     "start_time": "2022-04-22T19:50:34.461808Z"
    }
   },
   "outputs": [
    {
     "name": "stdout",
     "output_type": "stream",
     "text": [
      "GOOD: CORRECT OUTPUT\n",
      "test_no_global_vars_missing_info_GOOD(x, repeat) = [1 1]\n",
      "test_no_global_vars_missing_info_GOOD(5, 10) = [5 5 5 5 5 5 5 5 5 5]\n"
     ]
    }
   ],
   "source": [
    "# GOOD\n",
    "print(\"GOOD: CORRECT OUTPUT\")\n",
    "print(f\"test_no_global_vars_missing_info_GOOD(x, repeat) = {test_no_global_vars_missing_info_GOOD(x, repeat)}\")\n",
    "print(f\"test_no_global_vars_missing_info_GOOD(5, 10) = {test_no_global_vars_missing_info_GOOD(5, 10)}\")"
   ]
  },
  {
   "cell_type": "code",
   "execution_count": 16,
   "id": "84f7c57f",
   "metadata": {
    "ExecuteTime": {
     "end_time": "2022-04-22T19:50:34.795638Z",
     "start_time": "2022-04-22T19:50:34.789182Z"
    }
   },
   "outputs": [
    {
     "name": "stdout",
     "output_type": "stream",
     "text": [
      "GOOD: ERROR FROM TYPO\n"
     ]
    },
    {
     "ename": "NameError",
     "evalue": "name 'x' is not defined",
     "output_type": "error",
     "traceback": [
      "\u001b[0;31m---------------------------------------------------------------------------\u001b[0m",
      "\u001b[0;31mNameError\u001b[0m                                 Traceback (most recent call last)",
      "\u001b[0;32m/tmp/ipykernel_856/568228614.py\u001b[0m in \u001b[0;36m<module>\u001b[0;34m\u001b[0m\n\u001b[1;32m      1\u001b[0m \u001b[0;31m# GOOD\u001b[0m\u001b[0;34m\u001b[0m\u001b[0;34m\u001b[0m\u001b[0;34m\u001b[0m\u001b[0m\n\u001b[1;32m      2\u001b[0m \u001b[0mprint\u001b[0m\u001b[0;34m(\u001b[0m\u001b[0;34m\"GOOD: ERROR FROM TYPO\"\u001b[0m\u001b[0;34m)\u001b[0m\u001b[0;34m\u001b[0m\u001b[0;34m\u001b[0m\u001b[0m\n\u001b[0;32m----> 3\u001b[0;31m \u001b[0mprint\u001b[0m\u001b[0;34m(\u001b[0m\u001b[0;34mf\"test_no_global_vars_missing_info_typo_GOOD(x, repeat) = {test_no_global_vars_missing_info_typo_GOOD(x, repeat)}\"\u001b[0m\u001b[0;34m)\u001b[0m\u001b[0;34m\u001b[0m\u001b[0;34m\u001b[0m\u001b[0m\n\u001b[0m\u001b[1;32m      4\u001b[0m \u001b[0mprint\u001b[0m\u001b[0;34m(\u001b[0m\u001b[0;34mf\"test_no_global_vars_missing_info_typo_GOOD(5, 10) = {test_no_global_vars_missing_info_typo_GOOD(5, 10)}\"\u001b[0m\u001b[0;34m)\u001b[0m\u001b[0;34m\u001b[0m\u001b[0;34m\u001b[0m\u001b[0m\n",
      "\u001b[0;32m/tmp/ipykernel_856/2376102327.py\u001b[0m in \u001b[0;36mtest_no_global_vars_missing_info_typo_GOOD\u001b[0;34m(x_typo, repeat_typo)\u001b[0m\n\u001b[1;32m     29\u001b[0m \u001b[0;34m@\u001b[0m\u001b[0mno_global_vars_missing_info\u001b[0m\u001b[0;34m\u001b[0m\u001b[0;34m\u001b[0m\u001b[0m\n\u001b[1;32m     30\u001b[0m \u001b[0;32mdef\u001b[0m \u001b[0mtest_no_global_vars_missing_info_typo_GOOD\u001b[0m\u001b[0;34m(\u001b[0m\u001b[0mx_typo\u001b[0m\u001b[0;34m,\u001b[0m \u001b[0mrepeat_typo\u001b[0m\u001b[0;34m)\u001b[0m\u001b[0;34m:\u001b[0m\u001b[0;34m\u001b[0m\u001b[0;34m\u001b[0m\u001b[0m\n\u001b[0;32m---> 31\u001b[0;31m     \u001b[0;32mreturn\u001b[0m \u001b[0mnp\u001b[0m\u001b[0;34m.\u001b[0m\u001b[0marray\u001b[0m\u001b[0;34m(\u001b[0m\u001b[0;34m[\u001b[0m\u001b[0mx\u001b[0m\u001b[0;34m]\u001b[0m\u001b[0;34m*\u001b[0m\u001b[0mrepeat\u001b[0m\u001b[0;34m)\u001b[0m\u001b[0;34m\u001b[0m\u001b[0;34m\u001b[0m\u001b[0m\n\u001b[0m\u001b[1;32m     32\u001b[0m \u001b[0;34m\u001b[0m\u001b[0m\n\u001b[1;32m     33\u001b[0m \u001b[0;34m@\u001b[0m\u001b[0mno_global_vars_missing_info\u001b[0m\u001b[0;34m\u001b[0m\u001b[0;34m\u001b[0m\u001b[0m\n",
      "\u001b[0;31mNameError\u001b[0m: name 'x' is not defined"
     ]
    }
   ],
   "source": [
    "# GOOD\n",
    "print(\"GOOD: ERROR FROM TYPO\")\n",
    "print(f\"test_no_global_vars_missing_info_typo_GOOD(x, repeat) = {test_no_global_vars_missing_info_typo_GOOD(x, repeat)}\")\n",
    "print(f\"test_no_global_vars_missing_info_typo_GOOD(5, 10) = {test_no_global_vars_missing_info_typo_GOOD(5, 10)}\")"
   ]
  },
  {
   "cell_type": "code",
   "execution_count": 17,
   "id": "f0cd4bb8",
   "metadata": {
    "ExecuteTime": {
     "end_time": "2022-04-22T19:50:35.081764Z",
     "start_time": "2022-04-22T19:50:35.076272Z"
    },
    "scrolled": true
   },
   "outputs": [
    {
     "name": "stdout",
     "output_type": "stream",
     "text": [
      "BAD: NO DEFAULT ARG\n"
     ]
    },
    {
     "ename": "TypeError",
     "evalue": "test_no_global_vars_missing_info_default_arg_BAD() missing 1 required positional argument: 'repeat'",
     "output_type": "error",
     "traceback": [
      "\u001b[0;31m---------------------------------------------------------------------------\u001b[0m",
      "\u001b[0;31mTypeError\u001b[0m                                 Traceback (most recent call last)",
      "\u001b[0;32m/tmp/ipykernel_856/3583280235.py\u001b[0m in \u001b[0;36m<module>\u001b[0;34m\u001b[0m\n\u001b[1;32m      1\u001b[0m \u001b[0;31m# BAD\u001b[0m\u001b[0;34m\u001b[0m\u001b[0;34m\u001b[0m\u001b[0;34m\u001b[0m\u001b[0m\n\u001b[1;32m      2\u001b[0m \u001b[0mprint\u001b[0m\u001b[0;34m(\u001b[0m\u001b[0;34m\"BAD: NO DEFAULT ARG\"\u001b[0m\u001b[0;34m)\u001b[0m\u001b[0;34m\u001b[0m\u001b[0;34m\u001b[0m\u001b[0m\n\u001b[0;32m----> 3\u001b[0;31m \u001b[0mprint\u001b[0m\u001b[0;34m(\u001b[0m\u001b[0;34mf\"test_no_global_vars_missing_info_default_arg_BAD(x) = {test_no_global_vars_missing_info_default_arg_BAD(x)}\"\u001b[0m\u001b[0;34m)\u001b[0m\u001b[0;34m\u001b[0m\u001b[0;34m\u001b[0m\u001b[0m\n\u001b[0m\u001b[1;32m      4\u001b[0m \u001b[0mprint\u001b[0m\u001b[0;34m(\u001b[0m\u001b[0;34mf\"test_no_global_vars_missing_info_default_arg_BAD(5) = {test_no_global_vars_missing_info_default_arg_BAD(5)}\"\u001b[0m\u001b[0;34m)\u001b[0m\u001b[0;34m\u001b[0m\u001b[0;34m\u001b[0m\u001b[0m\n",
      "\u001b[0;31mTypeError\u001b[0m: test_no_global_vars_missing_info_default_arg_BAD() missing 1 required positional argument: 'repeat'"
     ]
    }
   ],
   "source": [
    "# BAD\n",
    "print(\"BAD: NO DEFAULT ARG\")\n",
    "print(f\"test_no_global_vars_missing_info_default_arg_BAD(x) = {test_no_global_vars_missing_info_default_arg_BAD(x)}\")\n",
    "print(f\"test_no_global_vars_missing_info_default_arg_BAD(5) = {test_no_global_vars_missing_info_default_arg_BAD(5)}\")"
   ]
  }
 ],
 "metadata": {
  "jupytext": {
   "cell_metadata_filter": "-all",
   "formats": "ipynb,auto:light",
   "main_language": "python",
   "notebook_metadata_filter": "-all",
   "text_representation": {
    "extension": ".py",
    "format_name": "light"
   }
  },
  "kernelspec": {
   "display_name": "Python 3 (ipykernel)",
   "language": "python",
   "name": "python3"
  },
  "language_info": {
   "codemirror_mode": {
    "name": "ipython",
    "version": 3
   },
   "file_extension": ".py",
   "mimetype": "text/x-python",
   "name": "python",
   "nbconvert_exporter": "python",
   "pygments_lexer": "ipython3",
   "version": "3.7.12"
  },
  "toc": {
   "base_numbering": 1,
   "nav_menu": {},
   "number_sections": true,
   "sideBar": true,
   "skip_h1_title": false,
   "title_cell": "Table of Contents",
   "title_sidebar": "Contents",
   "toc_cell": false,
   "toc_position": {},
   "toc_section_display": true,
   "toc_window_display": false
  },
  "varInspector": {
   "cols": {
    "lenName": 16,
    "lenType": 16,
    "lenVar": 40
   },
   "kernels_config": {
    "python": {
     "delete_cmd_postfix": "",
     "delete_cmd_prefix": "del ",
     "library": "var_list.py",
     "varRefreshCmd": "print(var_dic_list())"
    },
    "r": {
     "delete_cmd_postfix": ") ",
     "delete_cmd_prefix": "rm(",
     "library": "var_list.r",
     "varRefreshCmd": "cat(var_dic_list()) "
    }
   },
   "types_to_exclude": [
    "module",
    "function",
    "builtin_function_or_method",
    "instance",
    "_Feature"
   ],
   "window_display": false
  }
 },
 "nbformat": 4,
 "nbformat_minor": 5
}
