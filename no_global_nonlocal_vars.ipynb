{
 "cells": [
  {
   "cell_type": "markdown",
   "id": "873e8629",
   "metadata": {},
   "source": [
    "# Only Local Vars Decorator\n",
    "\n",
    "The purpose of this notebook is to show how to create a decorator to ensure a function doesn't use global or nonlocal variables, which can avoid many common bugs.\n",
    "\n",
    "Important notes:\n",
    "\n",
    "* Global variables are variables defined in the global scope that can be read from anywhere in the file after the variable is created\n",
    "\n",
    "* Nonlocal variables only exist in the context of nested functions, in which we have an outer function and an inner function defined within the outer function. From within the inner function, the variables defined in the outer function can be read, and these are called nonlocal variables."
   ]
  },
  {
   "cell_type": "markdown",
   "id": "e04159df",
   "metadata": {},
   "source": [
    "## Create `no_global_nonlocal_vars` Decorator"
   ]
  },
  {
   "cell_type": "code",
   "execution_count": 1,
   "id": "36707434",
   "metadata": {
    "ExecuteTime": {
     "end_time": "2022-07-06T00:54:49.417839Z",
     "start_time": "2022-07-06T00:54:49.413553Z"
    },
    "code_folding": []
   },
   "outputs": [],
   "source": [
    "import inspect\n",
    "import types\n",
    "\n",
    "\n",
    "def is_variable(x):\n",
    "    is_module = inspect.ismodule(x)\n",
    "    is_class = inspect.isclass(x)\n",
    "    is_function = inspect.isroutine(\n",
    "        x)  # includes built-in and user-defined fns\n",
    "    return not is_module and not is_class and not is_function\n",
    "\n",
    "\n",
    "def no_global_nonlocal_vars(f):\n",
    "    no_global_nonlocal_vars.already_passed_fns = set()\n",
    "\n",
    "    def check_for_global_and_nonlocal_vars(*args, **kwargs):\n",
    "        # Do not run this check again if f has already passed\n",
    "        if f in no_global_nonlocal_vars.already_passed_fns:\n",
    "            return f(*args, **kwargs)\n",
    "\n",
    "        # Check for global and nonlocal variables\n",
    "        closure_vars = inspect.getclosurevars(f)\n",
    "        global_vars = {\n",
    "            name: val\n",
    "            for name, val in closure_vars.globals.items() if is_variable(val)\n",
    "        }\n",
    "        nonlocal_vars = {\n",
    "            name: val\n",
    "            for name, val in closure_vars.nonlocals.items() if is_variable(val)\n",
    "        }\n",
    "\n",
    "        # Assertions\n",
    "        if len(global_vars) > 0:\n",
    "            raise AssertionError(\n",
    "                f\"The function '{f.__name__}' should not be using the following global vars: {global_vars}\"\n",
    "            )\n",
    "        if len(nonlocal_vars) > 0:\n",
    "            raise AssertionError(\n",
    "                f\"The function '{f.__name__}' should not be using the following nonlocal vars: {nonlocal_vars}\"\n",
    "            )\n",
    "\n",
    "        # Passed check\n",
    "        no_global_nonlocal_vars.already_passed_fns.add(f)\n",
    "        return f(*args, **kwargs)\n",
    "\n",
    "    return check_for_global_and_nonlocal_vars"
   ]
  },
  {
   "cell_type": "markdown",
   "id": "67d4bd2a",
   "metadata": {},
   "source": [
    "## Test `no_global_nonlocal_vars`"
   ]
  },
  {
   "cell_type": "code",
   "execution_count": 2,
   "id": "99d18275",
   "metadata": {
    "ExecuteTime": {
     "end_time": "2022-07-06T00:54:49.488028Z",
     "start_time": "2022-07-06T00:54:49.419821Z"
    }
   },
   "outputs": [],
   "source": [
    "import numpy as np\n",
    "\n",
    "# BEST\n",
    "@no_global_nonlocal_vars\n",
    "def test_no_global_nonlocal_vars_GOOD(x, repeat):\n",
    "    return np.array([x] * repeat)\n",
    "\n",
    "\n",
    "@no_global_nonlocal_vars\n",
    "def test_no_global_nonlocal_vars_typo_GOOD(x_typo, repeat_typo):\n",
    "    return np.array([x] * repeat)\n",
    "\n",
    "\n",
    "@no_global_nonlocal_vars\n",
    "def test_no_global_nonlocal_vars_nested_GOOD(x, repeat=10):\n",
    "\n",
    "    @no_global_nonlocal_vars\n",
    "    def helper(x, repeat):\n",
    "        return np.array([x] * repeat)\n",
    "\n",
    "    return helper(x, repeat)\n",
    "\n",
    "\n",
    "@no_global_nonlocal_vars\n",
    "def test_no_global_nonlocal_vars_nested_typo_GOOD(x, repeat=10):\n",
    "\n",
    "    @no_global_nonlocal_vars\n",
    "    def helper(x_typo, repeat_typo):\n",
    "        return np.array([x] * repeat)\n",
    "\n",
    "    return helper(x, repeat)"
   ]
  },
  {
   "cell_type": "markdown",
   "id": "4297b5eb",
   "metadata": {},
   "source": [
    "##  Create Alternative that Fail"
   ]
  },
  {
   "cell_type": "code",
   "execution_count": 3,
   "id": "0dd9fa1f",
   "metadata": {
    "ExecuteTime": {
     "end_time": "2022-07-06T00:54:49.492477Z",
     "start_time": "2022-07-06T00:54:49.489023Z"
    }
   },
   "outputs": [],
   "source": [
    "# BAD\n",
    "def test_baseline_GOOD(x, repeat):\n",
    "    return np.array([x] * repeat)\n",
    "\n",
    "\n",
    "def test_baseline_typo_BAD(x_typo, repeat_typo):\n",
    "    return np.array([x] * repeat)\n",
    "\n",
    "\n",
    "def test_baseline_nested_GOOD(x, repeat=10):\n",
    "\n",
    "    def helper(x, repeat):\n",
    "        return np.array([x] * repeat)\n",
    "\n",
    "    return helper(x, repeat)\n",
    "\n",
    "\n",
    "def test_baseline_nested_typo_BAD(x, repeat=10):\n",
    "\n",
    "    def helper(x_typo, repeat_typo):\n",
    "        return np.array([x] * repeat)\n",
    "\n",
    "    return helper(x, repeat)"
   ]
  },
  {
   "cell_type": "code",
   "execution_count": 4,
   "id": "95fe3247",
   "metadata": {
    "ExecuteTime": {
     "end_time": "2022-07-06T00:54:49.496773Z",
     "start_time": "2022-07-06T00:54:49.494137Z"
    }
   },
   "outputs": [],
   "source": [
    "# Create global variables with the same variable name\n",
    "x = 1\n",
    "repeat = 2"
   ]
  },
  {
   "cell_type": "markdown",
   "id": "f6332011",
   "metadata": {},
   "source": [
    "## Show working `no_global_nonlocal_vars`"
   ]
  },
  {
   "cell_type": "code",
   "execution_count": 5,
   "id": "a39699ce",
   "metadata": {
    "ExecuteTime": {
     "end_time": "2022-07-06T00:54:49.501396Z",
     "start_time": "2022-07-06T00:54:49.497763Z"
    }
   },
   "outputs": [
    {
     "name": "stdout",
     "output_type": "stream",
     "text": [
      "GOOD: CORRECT OUTPUT\n",
      "test_no_global_nonlocal_vars_GOOD(x, repeat) = [1 1]\n",
      "test_no_global_nonlocal_vars_GOOD(5, 10) = [5 5 5 5 5 5 5 5 5 5]\n"
     ]
    }
   ],
   "source": [
    "# GOOD\n",
    "print(\"GOOD: CORRECT OUTPUT\")\n",
    "print(\n",
    "    f\"test_no_global_nonlocal_vars_GOOD(x, repeat) = {test_no_global_nonlocal_vars_GOOD(x, repeat)}\"\n",
    ")\n",
    "print(\n",
    "    f\"test_no_global_nonlocal_vars_GOOD(5, 10) = {test_no_global_nonlocal_vars_GOOD(5, 10)}\"\n",
    ")"
   ]
  },
  {
   "cell_type": "code",
   "execution_count": 6,
   "id": "36ad9f5d",
   "metadata": {
    "ExecuteTime": {
     "end_time": "2022-07-06T00:54:49.557728Z",
     "start_time": "2022-07-06T00:54:49.502496Z"
    }
   },
   "outputs": [
    {
     "name": "stdout",
     "output_type": "stream",
     "text": [
      "GOOD: ERROR FROM TYPO\n"
     ]
    },
    {
     "ename": "AssertionError",
     "evalue": "The function 'test_no_global_nonlocal_vars_typo_GOOD' should not be using the following global vars: {'x': 1, 'repeat': 2}",
     "output_type": "error",
     "traceback": [
      "\u001b[0;31m---------------------------------------------------------------------------\u001b[0m",
      "\u001b[0;31mAssertionError\u001b[0m                            Traceback (most recent call last)",
      "\u001b[0;32m/tmp/ipykernel_9083/677270405.py\u001b[0m in \u001b[0;36m<module>\u001b[0;34m\u001b[0m\n\u001b[1;32m      2\u001b[0m \u001b[0mprint\u001b[0m\u001b[0;34m(\u001b[0m\u001b[0;34m\"GOOD: ERROR FROM TYPO\"\u001b[0m\u001b[0;34m)\u001b[0m\u001b[0;34m\u001b[0m\u001b[0;34m\u001b[0m\u001b[0m\n\u001b[1;32m      3\u001b[0m print(\n\u001b[0;32m----> 4\u001b[0;31m     \u001b[0;34mf\"test_no_global_nonlocal_vars_typo_GOOD(x, repeat) = {test_no_global_nonlocal_vars_typo_GOOD(x, repeat)}\"\u001b[0m\u001b[0;34m\u001b[0m\u001b[0;34m\u001b[0m\u001b[0m\n\u001b[0m\u001b[1;32m      5\u001b[0m )\n\u001b[1;32m      6\u001b[0m print(\n",
      "\u001b[0;32m/tmp/ipykernel_9083/1998338099.py\u001b[0m in \u001b[0;36mcheck_for_global_and_nonlocal_vars\u001b[0;34m(*args, **kwargs)\u001b[0m\n\u001b[1;32m     33\u001b[0m         \u001b[0;32mif\u001b[0m \u001b[0mlen\u001b[0m\u001b[0;34m(\u001b[0m\u001b[0mglobal_vars\u001b[0m\u001b[0;34m)\u001b[0m \u001b[0;34m>\u001b[0m \u001b[0;36m0\u001b[0m\u001b[0;34m:\u001b[0m\u001b[0;34m\u001b[0m\u001b[0;34m\u001b[0m\u001b[0m\n\u001b[1;32m     34\u001b[0m             raise AssertionError(\n\u001b[0;32m---> 35\u001b[0;31m                 \u001b[0;34mf\"The function '{f.__name__}' should not be using the following global vars: {global_vars}\"\u001b[0m\u001b[0;34m\u001b[0m\u001b[0;34m\u001b[0m\u001b[0m\n\u001b[0m\u001b[1;32m     36\u001b[0m             )\n\u001b[1;32m     37\u001b[0m         \u001b[0;32mif\u001b[0m \u001b[0mlen\u001b[0m\u001b[0;34m(\u001b[0m\u001b[0mnonlocal_vars\u001b[0m\u001b[0;34m)\u001b[0m \u001b[0;34m>\u001b[0m \u001b[0;36m0\u001b[0m\u001b[0;34m:\u001b[0m\u001b[0;34m\u001b[0m\u001b[0;34m\u001b[0m\u001b[0m\n",
      "\u001b[0;31mAssertionError\u001b[0m: The function 'test_no_global_nonlocal_vars_typo_GOOD' should not be using the following global vars: {'x': 1, 'repeat': 2}"
     ]
    }
   ],
   "source": [
    "# GOOD\n",
    "print(\"GOOD: ERROR FROM TYPO\")\n",
    "print(\n",
    "    f\"test_no_global_nonlocal_vars_typo_GOOD(x, repeat) = {test_no_global_nonlocal_vars_typo_GOOD(x, repeat)}\"\n",
    ")\n",
    "print(\n",
    "    f\"test_no_global_nonlocal_vars_typo_GOOD(5, 10) = {test_no_global_nonlocal_vars_typo_GOOD(5, 10)}\"\n",
    ")"
   ]
  },
  {
   "cell_type": "code",
   "execution_count": 7,
   "id": "93e33261",
   "metadata": {
    "ExecuteTime": {
     "end_time": "2022-07-06T00:54:59.218933Z",
     "start_time": "2022-07-06T00:54:59.213073Z"
    }
   },
   "outputs": [
    {
     "name": "stdout",
     "output_type": "stream",
     "text": [
      "GOOD: NESTED FUNCTION WORKS\n",
      "test_no_global_nonlocal_vars_nested_GOOD(x, repeat) = [1 1]\n",
      "test_no_global_nonlocal_vars_nested_GOOD(5, 10) = [5 5 5 5 5 5 5 5 5 5]\n"
     ]
    }
   ],
   "source": [
    "# GOOD\n",
    "print(\"GOOD: NESTED FUNCTION WORKS\")\n",
    "print(\n",
    "    f\"test_no_global_nonlocal_vars_nested_GOOD(x, repeat) = {test_no_global_nonlocal_vars_nested_GOOD(x, repeat)}\"\n",
    ")\n",
    "print(\n",
    "    f\"test_no_global_nonlocal_vars_nested_GOOD(5, 10) = {test_no_global_nonlocal_vars_nested_GOOD(5, 10)}\"\n",
    ")"
   ]
  },
  {
   "cell_type": "code",
   "execution_count": 8,
   "id": "7df05814",
   "metadata": {
    "ExecuteTime": {
     "end_time": "2022-07-06T00:54:59.557595Z",
     "start_time": "2022-07-06T00:54:59.548585Z"
    }
   },
   "outputs": [
    {
     "name": "stdout",
     "output_type": "stream",
     "text": [
      "GOOD: ERROR FROM NONLOCAL VARIABLE TYPO\n"
     ]
    },
    {
     "ename": "AssertionError",
     "evalue": "The function 'helper' should not be using the following nonlocal vars: {'repeat': 2, 'x': 1}",
     "output_type": "error",
     "traceback": [
      "\u001b[0;31m---------------------------------------------------------------------------\u001b[0m",
      "\u001b[0;31mAssertionError\u001b[0m                            Traceback (most recent call last)",
      "\u001b[0;32m/tmp/ipykernel_9083/1733158616.py\u001b[0m in \u001b[0;36m<module>\u001b[0;34m\u001b[0m\n\u001b[1;32m      2\u001b[0m \u001b[0mprint\u001b[0m\u001b[0;34m(\u001b[0m\u001b[0;34m\"GOOD: ERROR FROM NONLOCAL VARIABLE TYPO\"\u001b[0m\u001b[0;34m)\u001b[0m\u001b[0;34m\u001b[0m\u001b[0;34m\u001b[0m\u001b[0m\n\u001b[1;32m      3\u001b[0m print(\n\u001b[0;32m----> 4\u001b[0;31m     \u001b[0;34mf\"test_no_global_nonlocal_vars_nested_typo_GOOD(x, repeat) = {test_no_global_nonlocal_vars_nested_typo_GOOD(x, repeat)}\"\u001b[0m\u001b[0;34m\u001b[0m\u001b[0;34m\u001b[0m\u001b[0m\n\u001b[0m\u001b[1;32m      5\u001b[0m )\n\u001b[1;32m      6\u001b[0m print(\n",
      "\u001b[0;32m/tmp/ipykernel_9083/1998338099.py\u001b[0m in \u001b[0;36mcheck_for_global_and_nonlocal_vars\u001b[0;34m(*args, **kwargs)\u001b[0m\n\u001b[1;32m     42\u001b[0m         \u001b[0;31m# Passed check\u001b[0m\u001b[0;34m\u001b[0m\u001b[0;34m\u001b[0m\u001b[0;34m\u001b[0m\u001b[0m\n\u001b[1;32m     43\u001b[0m         \u001b[0mno_global_nonlocal_vars\u001b[0m\u001b[0;34m.\u001b[0m\u001b[0malready_passed_fns\u001b[0m\u001b[0;34m.\u001b[0m\u001b[0madd\u001b[0m\u001b[0;34m(\u001b[0m\u001b[0mf\u001b[0m\u001b[0;34m)\u001b[0m\u001b[0;34m\u001b[0m\u001b[0;34m\u001b[0m\u001b[0m\n\u001b[0;32m---> 44\u001b[0;31m         \u001b[0;32mreturn\u001b[0m \u001b[0mf\u001b[0m\u001b[0;34m(\u001b[0m\u001b[0;34m*\u001b[0m\u001b[0margs\u001b[0m\u001b[0;34m,\u001b[0m \u001b[0;34m**\u001b[0m\u001b[0mkwargs\u001b[0m\u001b[0;34m)\u001b[0m\u001b[0;34m\u001b[0m\u001b[0;34m\u001b[0m\u001b[0m\n\u001b[0m\u001b[1;32m     45\u001b[0m \u001b[0;34m\u001b[0m\u001b[0m\n\u001b[1;32m     46\u001b[0m     \u001b[0;32mreturn\u001b[0m \u001b[0mcheck_for_global_and_nonlocal_vars\u001b[0m\u001b[0;34m\u001b[0m\u001b[0;34m\u001b[0m\u001b[0m\n",
      "\u001b[0;32m/tmp/ipykernel_9083/3330679256.py\u001b[0m in \u001b[0;36mtest_no_global_nonlocal_vars_nested_typo_GOOD\u001b[0;34m(x, repeat)\u001b[0m\n\u001b[1;32m     29\u001b[0m         \u001b[0;32mreturn\u001b[0m \u001b[0mnp\u001b[0m\u001b[0;34m.\u001b[0m\u001b[0marray\u001b[0m\u001b[0;34m(\u001b[0m\u001b[0;34m[\u001b[0m\u001b[0mx\u001b[0m\u001b[0;34m]\u001b[0m \u001b[0;34m*\u001b[0m \u001b[0mrepeat\u001b[0m\u001b[0;34m)\u001b[0m\u001b[0;34m\u001b[0m\u001b[0;34m\u001b[0m\u001b[0m\n\u001b[1;32m     30\u001b[0m \u001b[0;34m\u001b[0m\u001b[0m\n\u001b[0;32m---> 31\u001b[0;31m     \u001b[0;32mreturn\u001b[0m \u001b[0mhelper\u001b[0m\u001b[0;34m(\u001b[0m\u001b[0mx\u001b[0m\u001b[0;34m,\u001b[0m \u001b[0mrepeat\u001b[0m\u001b[0;34m)\u001b[0m\u001b[0;34m\u001b[0m\u001b[0;34m\u001b[0m\u001b[0m\n\u001b[0m",
      "\u001b[0;32m/tmp/ipykernel_9083/1998338099.py\u001b[0m in \u001b[0;36mcheck_for_global_and_nonlocal_vars\u001b[0;34m(*args, **kwargs)\u001b[0m\n\u001b[1;32m     37\u001b[0m         \u001b[0;32mif\u001b[0m \u001b[0mlen\u001b[0m\u001b[0;34m(\u001b[0m\u001b[0mnonlocal_vars\u001b[0m\u001b[0;34m)\u001b[0m \u001b[0;34m>\u001b[0m \u001b[0;36m0\u001b[0m\u001b[0;34m:\u001b[0m\u001b[0;34m\u001b[0m\u001b[0;34m\u001b[0m\u001b[0m\n\u001b[1;32m     38\u001b[0m             raise AssertionError(\n\u001b[0;32m---> 39\u001b[0;31m                 \u001b[0;34mf\"The function '{f.__name__}' should not be using the following nonlocal vars: {nonlocal_vars}\"\u001b[0m\u001b[0;34m\u001b[0m\u001b[0;34m\u001b[0m\u001b[0m\n\u001b[0m\u001b[1;32m     40\u001b[0m             )\n\u001b[1;32m     41\u001b[0m \u001b[0;34m\u001b[0m\u001b[0m\n",
      "\u001b[0;31mAssertionError\u001b[0m: The function 'helper' should not be using the following nonlocal vars: {'repeat': 2, 'x': 1}"
     ]
    }
   ],
   "source": [
    "# GOOD\n",
    "print(\"GOOD: ERROR FROM NONLOCAL VARIABLE TYPO\")\n",
    "print(\n",
    "    f\"test_no_global_nonlocal_vars_nested_typo_GOOD(x, repeat) = {test_no_global_nonlocal_vars_nested_typo_GOOD(x, repeat)}\"\n",
    ")\n",
    "print(\n",
    "    f\"test_no_global_nonlocal_vars_nested_typo_GOOD(5, 10) = {test_no_global_nonlocal_vars_nested_typo_GOOD(5, 10)}\"\n",
    ")"
   ]
  },
  {
   "cell_type": "markdown",
   "id": "644bd345",
   "metadata": {},
   "source": [
    "## Show not working `baseline`"
   ]
  },
  {
   "cell_type": "code",
   "execution_count": 9,
   "id": "7ab400e4",
   "metadata": {
    "ExecuteTime": {
     "end_time": "2022-07-06T00:55:00.364511Z",
     "start_time": "2022-07-06T00:55:00.361882Z"
    }
   },
   "outputs": [
    {
     "name": "stdout",
     "output_type": "stream",
     "text": [
      "GOOD: CORRECT OUTPUT\n",
      "test_baseline_GOOD(x, repeat) = [1 1]\n",
      "test_baseline_GOOD(5, 10) = [5 5 5 5 5 5 5 5 5 5]\n"
     ]
    }
   ],
   "source": [
    "# GOOD\n",
    "print(\"GOOD: CORRECT OUTPUT\")\n",
    "print(f\"test_baseline_GOOD(x, repeat) = {test_baseline_GOOD(x, repeat)}\")\n",
    "print(f\"test_baseline_GOOD(5, 10) = {test_baseline_GOOD(5, 10)}\")"
   ]
  },
  {
   "cell_type": "code",
   "execution_count": 10,
   "id": "c0756c77",
   "metadata": {
    "ExecuteTime": {
     "end_time": "2022-07-06T00:55:00.618286Z",
     "start_time": "2022-07-06T00:55:00.615865Z"
    }
   },
   "outputs": [
    {
     "name": "stdout",
     "output_type": "stream",
     "text": [
      "BAD: SUBTLE BUG FROM TYPO\n",
      "test_baseline_typo_BAD(x, repeat) = [1 1]\n",
      "test_baseline_typo_BAD(5, 10) = [1 1]\n"
     ]
    }
   ],
   "source": [
    "# BAD\n",
    "print(\"BAD: SUBTLE BUG FROM TYPO\")\n",
    "print(\n",
    "    f\"test_baseline_typo_BAD(x, repeat) = {test_baseline_typo_BAD(x, repeat)}\")\n",
    "print(f\"test_baseline_typo_BAD(5, 10) = {test_baseline_typo_BAD(5, 10)}\")"
   ]
  },
  {
   "cell_type": "code",
   "execution_count": 11,
   "id": "3745c173",
   "metadata": {
    "ExecuteTime": {
     "end_time": "2022-07-06T00:55:00.944253Z",
     "start_time": "2022-07-06T00:55:00.940682Z"
    }
   },
   "outputs": [
    {
     "name": "stdout",
     "output_type": "stream",
     "text": [
      "GOOD: CORRECT OUTPUT\n",
      "test_baseline_nested_GOOD(x, repeat) = [1 1]\n",
      "test_baseline_nested_GOOD(5, 10) = [5 5 5 5 5 5 5 5 5 5]\n"
     ]
    }
   ],
   "source": [
    "# GOOD\n",
    "print(\"GOOD: CORRECT OUTPUT\")\n",
    "print(\n",
    "    f\"test_baseline_nested_GOOD(x, repeat) = {test_baseline_nested_GOOD(x, repeat)}\"\n",
    ")\n",
    "print(f\"test_baseline_nested_GOOD(5, 10) = {test_baseline_nested_GOOD(5, 10)}\")"
   ]
  },
  {
   "cell_type": "code",
   "execution_count": 12,
   "id": "e328542f",
   "metadata": {
    "ExecuteTime": {
     "end_time": "2022-07-06T00:55:01.226516Z",
     "start_time": "2022-07-06T00:55:01.223737Z"
    }
   },
   "outputs": [
    {
     "name": "stdout",
     "output_type": "stream",
     "text": [
      "BAD: SUBTLE BUG FROM TYPO\n",
      "test_baseline_nested_typo_BAD(x, repeat) = [1 1]\n",
      "test_baseline_nested_typo_BAD(5, 10) = [5 5 5 5 5 5 5 5 5 5]\n"
     ]
    }
   ],
   "source": [
    "# BAD\n",
    "print(\"BAD: SUBTLE BUG FROM TYPO\")\n",
    "print(\n",
    "    f\"test_baseline_nested_typo_BAD(x, repeat) = {test_baseline_nested_typo_BAD(x, repeat)}\"\n",
    ")\n",
    "print(\n",
    "    f\"test_baseline_nested_typo_BAD(5, 10) = {test_baseline_nested_typo_BAD(5, 10)}\"\n",
    ")"
   ]
  }
 ],
 "metadata": {
  "jupytext": {
   "cell_metadata_filter": "-all",
   "main_language": "python",
   "notebook_metadata_filter": "-all"
  },
  "kernelspec": {
   "display_name": "Python 3 (ipykernel)",
   "language": "python",
   "name": "python3"
  },
  "language_info": {
   "codemirror_mode": {
    "name": "ipython",
    "version": 3
   },
   "file_extension": ".py",
   "mimetype": "text/x-python",
   "name": "python",
   "nbconvert_exporter": "python",
   "pygments_lexer": "ipython3",
   "version": "3.7.12"
  },
  "toc": {
   "base_numbering": 1,
   "nav_menu": {},
   "number_sections": true,
   "sideBar": true,
   "skip_h1_title": false,
   "title_cell": "Table of Contents",
   "title_sidebar": "Contents",
   "toc_cell": false,
   "toc_position": {},
   "toc_section_display": true,
   "toc_window_display": false
  },
  "varInspector": {
   "cols": {
    "lenName": 16,
    "lenType": 16,
    "lenVar": 40
   },
   "kernels_config": {
    "python": {
     "delete_cmd_postfix": "",
     "delete_cmd_prefix": "del ",
     "library": "var_list.py",
     "varRefreshCmd": "print(var_dic_list())"
    },
    "r": {
     "delete_cmd_postfix": ") ",
     "delete_cmd_prefix": "rm(",
     "library": "var_list.r",
     "varRefreshCmd": "cat(var_dic_list()) "
    }
   },
   "types_to_exclude": [
    "module",
    "function",
    "builtin_function_or_method",
    "instance",
    "_Feature"
   ],
   "window_display": false
  }
 },
 "nbformat": 4,
 "nbformat_minor": 5
}
