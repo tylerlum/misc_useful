{
 "cells": [
  {
   "cell_type": "markdown",
   "id": "873e8629",
   "metadata": {},
   "source": [
    "# No Globals Decorator\n",
    "\n",
    "The purpose of this notebook is to show how to create a decorator to ensure a function does not erroneously read from global variables. This ensures that the function does not use variables from the global scope, which can avoid many common bugs.\n",
    "\n",
    "Important notes:\n",
    "\n",
    "* If done naively, the local scope will have no modules or functions. This is very frustrating, as you would need to import everything again\n",
    "\n",
    "* We can explicitly keep the global scope's modules and functions. However, this implementation only stores the modules and functions at the time of the function definition, so be sure to have everything you need by there!"
   ]
  },
  {
   "cell_type": "markdown",
   "id": "e04159df",
   "metadata": {},
   "source": [
    "## Create `no_globals` decorator"
   ]
  },
  {
   "cell_type": "code",
   "execution_count": 1,
   "id": "36707434",
   "metadata": {
    "ExecuteTime": {
     "end_time": "2022-04-22T08:05:01.372059Z",
     "start_time": "2022-04-22T08:05:01.369065Z"
    }
   },
   "outputs": [],
   "source": [
    "import types\n",
    "no_globals = lambda function: types.FunctionType(\n",
    "    function.__code__,\n",
    "\n",
    "    # Keep modules and functions in local scope\n",
    "    {global_name: global_val\n",
    "     for global_name, global_val in globals().items()\n",
    "     if isinstance(global_val, types.ModuleType)\n",
    "     or hasattr(global_val, '__call__')\n",
    "    }\n",
    ")\n",
    "\n",
    "no_globals_bad = lambda function: types.FunctionType(\n",
    "    function.__code__,\n",
    "    \n",
    "    # Completely empty local scope\n",
    "    {}\n",
    ")"
   ]
  },
  {
   "cell_type": "markdown",
   "id": "67d4bd2a",
   "metadata": {},
   "source": [
    "## Compare `no_globals` to alternatives"
   ]
  },
  {
   "cell_type": "code",
   "execution_count": 2,
   "id": "99d18275",
   "metadata": {
    "ExecuteTime": {
     "end_time": "2022-04-22T08:05:01.429607Z",
     "start_time": "2022-04-22T08:05:01.373305Z"
    }
   },
   "outputs": [],
   "source": [
    "# Be sure to include necessary imports before creating function!\n",
    "import numpy as np\n",
    "\n",
    "# BEST\n",
    "@no_globals\n",
    "def test_no_globals(x, repeat):\n",
    "    return np.array([x]*repeat)\n",
    "\n",
    "@no_globals\n",
    "def test_no_globals_typo(x_typo, repeat_typo):\n",
    "    return np.array([x]*repeat)"
   ]
  },
  {
   "cell_type": "code",
   "execution_count": 3,
   "id": "0dd9fa1f",
   "metadata": {
    "ExecuteTime": {
     "end_time": "2022-04-22T08:05:01.433613Z",
     "start_time": "2022-04-22T08:05:01.430633Z"
    }
   },
   "outputs": [],
   "source": [
    "# BAD BASELINE 1: Use globals\n",
    "def test_with_globals(x, repeat):\n",
    "    return np.array([x]*repeat)\n",
    "\n",
    "def test_with_globals_typo(x_typo, repeat_typo):\n",
    "    return np.array([x]*repeat)\n",
    "\n",
    "# BAD BASELINE 2: No globals, modules, or functions at all\n",
    "@no_globals_bad\n",
    "def test_no_globals_bad(x, repeat):\n",
    "    return np.array([x]*repeat)\n",
    "\n",
    "@no_globals_bad\n",
    "def test_no_globals_bad_typo(x_typo, repeat_typo):\n",
    "    return np.array([x]*repeat)"
   ]
  },
  {
   "cell_type": "code",
   "execution_count": 4,
   "id": "95fe3247",
   "metadata": {
    "ExecuteTime": {
     "end_time": "2022-04-22T08:05:01.436489Z",
     "start_time": "2022-04-22T08:05:01.434606Z"
    }
   },
   "outputs": [],
   "source": [
    "# Create global variables with the same variable name\n",
    "x = 1\n",
    "repeat = 2"
   ]
  },
  {
   "cell_type": "markdown",
   "id": "f6332011",
   "metadata": {},
   "source": [
    "## Show working `no_globals`"
   ]
  },
  {
   "cell_type": "code",
   "execution_count": 5,
   "id": "a39699ce",
   "metadata": {
    "ExecuteTime": {
     "end_time": "2022-04-22T08:05:01.440300Z",
     "start_time": "2022-04-22T08:05:01.437482Z"
    }
   },
   "outputs": [
    {
     "name": "stdout",
     "output_type": "stream",
     "text": [
      "WORKING: CORRECT OUTPUT\n",
      "test_no_globals(x, repeat) = [1 1]\n",
      "test_no_globals(5, 10) = [5 5 5 5 5 5 5 5 5 5]\n"
     ]
    }
   ],
   "source": [
    "# WORKING\n",
    "print(\"WORKING: CORRECT OUTPUT\")\n",
    "print(f\"test_no_globals(x, repeat) = {test_no_globals(x, repeat)}\")\n",
    "print(f\"test_no_globals(5, 10) = {test_no_globals(5, 10)}\")"
   ]
  },
  {
   "cell_type": "code",
   "execution_count": 6,
   "id": "f32aada9",
   "metadata": {
    "ExecuteTime": {
     "end_time": "2022-04-22T08:05:01.493093Z",
     "start_time": "2022-04-22T08:05:01.441206Z"
    }
   },
   "outputs": [
    {
     "name": "stdout",
     "output_type": "stream",
     "text": [
      "WORKING: ERROR FROM TYPO\n"
     ]
    },
    {
     "ename": "NameError",
     "evalue": "name 'x' is not defined",
     "output_type": "error",
     "traceback": [
      "\u001b[0;31m---------------------------------------------------------------------------\u001b[0m",
      "\u001b[0;31mNameError\u001b[0m                                 Traceback (most recent call last)",
      "\u001b[0;32m/tmp/ipykernel_2170/3177857539.py\u001b[0m in \u001b[0;36m<module>\u001b[0;34m\u001b[0m\n\u001b[1;32m      1\u001b[0m \u001b[0;31m# WORKING\u001b[0m\u001b[0;34m\u001b[0m\u001b[0;34m\u001b[0m\u001b[0;34m\u001b[0m\u001b[0m\n\u001b[1;32m      2\u001b[0m \u001b[0mprint\u001b[0m\u001b[0;34m(\u001b[0m\u001b[0;34m\"WORKING: ERROR FROM TYPO\"\u001b[0m\u001b[0;34m)\u001b[0m\u001b[0;34m\u001b[0m\u001b[0;34m\u001b[0m\u001b[0m\n\u001b[0;32m----> 3\u001b[0;31m \u001b[0mprint\u001b[0m\u001b[0;34m(\u001b[0m\u001b[0;34mf\"test_no_globals_typo(x, repeat) = {test_no_globals_typo(x, repeat)}\"\u001b[0m\u001b[0;34m)\u001b[0m\u001b[0;34m\u001b[0m\u001b[0;34m\u001b[0m\u001b[0m\n\u001b[0m\u001b[1;32m      4\u001b[0m \u001b[0mprint\u001b[0m\u001b[0;34m(\u001b[0m\u001b[0;34mf\"test_no_globals_typo(5, 10) = {test_no_globals_typo(5, 10)}\"\u001b[0m\u001b[0;34m)\u001b[0m\u001b[0;34m\u001b[0m\u001b[0;34m\u001b[0m\u001b[0m\n",
      "\u001b[0;32m/tmp/ipykernel_2170/858063600.py\u001b[0m in \u001b[0;36mtest_no_globals_typo\u001b[0;34m(x_typo, repeat_typo)\u001b[0m\n\u001b[1;32m      9\u001b[0m \u001b[0;34m@\u001b[0m\u001b[0mno_globals\u001b[0m\u001b[0;34m\u001b[0m\u001b[0;34m\u001b[0m\u001b[0m\n\u001b[1;32m     10\u001b[0m \u001b[0;32mdef\u001b[0m \u001b[0mtest_no_globals_typo\u001b[0m\u001b[0;34m(\u001b[0m\u001b[0mx_typo\u001b[0m\u001b[0;34m,\u001b[0m \u001b[0mrepeat_typo\u001b[0m\u001b[0;34m)\u001b[0m\u001b[0;34m:\u001b[0m\u001b[0;34m\u001b[0m\u001b[0;34m\u001b[0m\u001b[0m\n\u001b[0;32m---> 11\u001b[0;31m     \u001b[0;32mreturn\u001b[0m \u001b[0mnp\u001b[0m\u001b[0;34m.\u001b[0m\u001b[0marray\u001b[0m\u001b[0;34m(\u001b[0m\u001b[0;34m[\u001b[0m\u001b[0mx\u001b[0m\u001b[0;34m]\u001b[0m\u001b[0;34m*\u001b[0m\u001b[0mrepeat\u001b[0m\u001b[0;34m)\u001b[0m\u001b[0;34m\u001b[0m\u001b[0;34m\u001b[0m\u001b[0m\n\u001b[0m",
      "\u001b[0;31mNameError\u001b[0m: name 'x' is not defined"
     ]
    }
   ],
   "source": [
    "# WORKING\n",
    "print(\"WORKING: ERROR FROM TYPO\")\n",
    "print(f\"test_no_globals_typo(x, repeat) = {test_no_globals_typo(x, repeat)}\")\n",
    "print(f\"test_no_globals_typo(5, 10) = {test_no_globals_typo(5, 10)}\")"
   ]
  },
  {
   "cell_type": "markdown",
   "id": "644bd345",
   "metadata": {},
   "source": [
    "## Show not working `with_globals`"
   ]
  },
  {
   "cell_type": "code",
   "execution_count": 7,
   "id": "7ab400e4",
   "metadata": {
    "ExecuteTime": {
     "end_time": "2022-04-22T08:05:08.154956Z",
     "start_time": "2022-04-22T08:05:08.144779Z"
    }
   },
   "outputs": [
    {
     "name": "stdout",
     "output_type": "stream",
     "text": [
      "WORKING: CORRECT OUTPUT\n",
      "test_with_globals(x, repeat) = [1 1]\n",
      "test_with_globals(5, 10) = [5 5 5 5 5 5 5 5 5 5]\n"
     ]
    }
   ],
   "source": [
    "# WORKING\n",
    "print(\"WORKING: CORRECT OUTPUT\")\n",
    "print(f\"test_with_globals(x, repeat) = {test_with_globals(x, repeat)}\")\n",
    "print(f\"test_with_globals(5, 10) = {test_with_globals(5, 10)}\")"
   ]
  },
  {
   "cell_type": "code",
   "execution_count": 8,
   "id": "c0756c77",
   "metadata": {
    "ExecuteTime": {
     "end_time": "2022-04-22T08:05:08.167682Z",
     "start_time": "2022-04-22T08:05:08.159925Z"
    }
   },
   "outputs": [
    {
     "name": "stdout",
     "output_type": "stream",
     "text": [
      "NOT WORKING: BUG FROM TYPO\n",
      "test_with_globals_typo(x, repeat) = [1 1]\n",
      "test_with_globals_typo(5, 10) = [1 1]\n"
     ]
    }
   ],
   "source": [
    "# NOT WORKING\n",
    "print(\"NOT WORKING: BUG FROM TYPO\")\n",
    "print(f\"test_with_globals_typo(x, repeat) = {test_with_globals_typo(x, repeat)}\")\n",
    "print(f\"test_with_globals_typo(5, 10) = {test_with_globals_typo(5, 10)}\")"
   ]
  },
  {
   "cell_type": "markdown",
   "id": "2e99198f",
   "metadata": {},
   "source": [
    "## Show not working `no_globals_bad`"
   ]
  },
  {
   "cell_type": "code",
   "execution_count": 9,
   "id": "e328542f",
   "metadata": {
    "ExecuteTime": {
     "end_time": "2022-04-22T08:05:08.179686Z",
     "start_time": "2022-04-22T08:05:08.169956Z"
    }
   },
   "outputs": [
    {
     "name": "stdout",
     "output_type": "stream",
     "text": [
      "NOT WORKING: MISSING NP IMPORT\n"
     ]
    },
    {
     "ename": "NameError",
     "evalue": "name 'np' is not defined",
     "output_type": "error",
     "traceback": [
      "\u001b[0;31m---------------------------------------------------------------------------\u001b[0m",
      "\u001b[0;31mNameError\u001b[0m                                 Traceback (most recent call last)",
      "\u001b[0;32m/tmp/ipykernel_2170/2062371285.py\u001b[0m in \u001b[0;36m<module>\u001b[0;34m\u001b[0m\n\u001b[1;32m      1\u001b[0m \u001b[0;31m# NOT WORKING\u001b[0m\u001b[0;34m\u001b[0m\u001b[0;34m\u001b[0m\u001b[0;34m\u001b[0m\u001b[0m\n\u001b[1;32m      2\u001b[0m \u001b[0mprint\u001b[0m\u001b[0;34m(\u001b[0m\u001b[0;34m\"NOT WORKING: MISSING NP IMPORT\"\u001b[0m\u001b[0;34m)\u001b[0m\u001b[0;34m\u001b[0m\u001b[0;34m\u001b[0m\u001b[0m\n\u001b[0;32m----> 3\u001b[0;31m \u001b[0mprint\u001b[0m\u001b[0;34m(\u001b[0m\u001b[0;34mf\"test_no_globals_bad(x, repeat) = {test_no_globals_bad(x, repeat)}\"\u001b[0m\u001b[0;34m)\u001b[0m\u001b[0;34m\u001b[0m\u001b[0;34m\u001b[0m\u001b[0m\n\u001b[0m\u001b[1;32m      4\u001b[0m \u001b[0mprint\u001b[0m\u001b[0;34m(\u001b[0m\u001b[0;34mf\"test_no_globals_bad(5, 10) = {test_no_globals_bad(5, 10)}\"\u001b[0m\u001b[0;34m)\u001b[0m\u001b[0;34m\u001b[0m\u001b[0;34m\u001b[0m\u001b[0m\n",
      "\u001b[0;32m/tmp/ipykernel_2170/3678206661.py\u001b[0m in \u001b[0;36mtest_no_globals_bad\u001b[0;34m(x, repeat)\u001b[0m\n\u001b[1;32m      9\u001b[0m \u001b[0;34m@\u001b[0m\u001b[0mno_globals_bad\u001b[0m\u001b[0;34m\u001b[0m\u001b[0;34m\u001b[0m\u001b[0m\n\u001b[1;32m     10\u001b[0m \u001b[0;32mdef\u001b[0m \u001b[0mtest_no_globals_bad\u001b[0m\u001b[0;34m(\u001b[0m\u001b[0mx\u001b[0m\u001b[0;34m,\u001b[0m \u001b[0mrepeat\u001b[0m\u001b[0;34m)\u001b[0m\u001b[0;34m:\u001b[0m\u001b[0;34m\u001b[0m\u001b[0;34m\u001b[0m\u001b[0m\n\u001b[0;32m---> 11\u001b[0;31m     \u001b[0;32mreturn\u001b[0m \u001b[0mnp\u001b[0m\u001b[0;34m.\u001b[0m\u001b[0marray\u001b[0m\u001b[0;34m(\u001b[0m\u001b[0;34m[\u001b[0m\u001b[0mx\u001b[0m\u001b[0;34m]\u001b[0m\u001b[0;34m*\u001b[0m\u001b[0mrepeat\u001b[0m\u001b[0;34m)\u001b[0m\u001b[0;34m\u001b[0m\u001b[0;34m\u001b[0m\u001b[0m\n\u001b[0m\u001b[1;32m     12\u001b[0m \u001b[0;34m\u001b[0m\u001b[0m\n\u001b[1;32m     13\u001b[0m \u001b[0;34m@\u001b[0m\u001b[0mno_globals_bad\u001b[0m\u001b[0;34m\u001b[0m\u001b[0;34m\u001b[0m\u001b[0m\n",
      "\u001b[0;31mNameError\u001b[0m: name 'np' is not defined"
     ]
    }
   ],
   "source": [
    "# NOT WORKING\n",
    "print(\"NOT WORKING: MISSING NP IMPORT\")\n",
    "print(f\"test_no_globals_bad(x, repeat) = {test_no_globals_bad(x, repeat)}\")\n",
    "print(f\"test_no_globals_bad(5, 10) = {test_no_globals_bad(5, 10)}\")"
   ]
  },
  {
   "cell_type": "code",
   "execution_count": 10,
   "id": "bf995840",
   "metadata": {
    "ExecuteTime": {
     "end_time": "2022-04-22T08:05:12.804158Z",
     "start_time": "2022-04-22T08:05:12.796982Z"
    }
   },
   "outputs": [
    {
     "name": "stdout",
     "output_type": "stream",
     "text": [
      "NOT WORKING: MISSING NP IMPORT\n"
     ]
    },
    {
     "ename": "NameError",
     "evalue": "name 'np' is not defined",
     "output_type": "error",
     "traceback": [
      "\u001b[0;31m---------------------------------------------------------------------------\u001b[0m",
      "\u001b[0;31mNameError\u001b[0m                                 Traceback (most recent call last)",
      "\u001b[0;32m/tmp/ipykernel_2170/2891420054.py\u001b[0m in \u001b[0;36m<module>\u001b[0;34m\u001b[0m\n\u001b[1;32m      1\u001b[0m \u001b[0;31m# NOT WORKING\u001b[0m\u001b[0;34m\u001b[0m\u001b[0;34m\u001b[0m\u001b[0;34m\u001b[0m\u001b[0m\n\u001b[1;32m      2\u001b[0m \u001b[0mprint\u001b[0m\u001b[0;34m(\u001b[0m\u001b[0;34m\"NOT WORKING: MISSING NP IMPORT\"\u001b[0m\u001b[0;34m)\u001b[0m\u001b[0;34m\u001b[0m\u001b[0;34m\u001b[0m\u001b[0m\n\u001b[0;32m----> 3\u001b[0;31m \u001b[0mprint\u001b[0m\u001b[0;34m(\u001b[0m\u001b[0;34mf\"test_no_globals_bad_typo(x, repeat) = {test_no_globals_bad_typo(x, repeat)}\"\u001b[0m\u001b[0;34m)\u001b[0m\u001b[0;34m\u001b[0m\u001b[0;34m\u001b[0m\u001b[0m\n\u001b[0m\u001b[1;32m      4\u001b[0m \u001b[0mprint\u001b[0m\u001b[0;34m(\u001b[0m\u001b[0;34mf\"test_no_globals_bad_typo(5, 10) = {test_no_globals_bad_typo(5, 10)}\"\u001b[0m\u001b[0;34m)\u001b[0m\u001b[0;34m\u001b[0m\u001b[0;34m\u001b[0m\u001b[0m\n",
      "\u001b[0;32m/tmp/ipykernel_2170/3678206661.py\u001b[0m in \u001b[0;36mtest_no_globals_bad_typo\u001b[0;34m(x_typo, repeat_typo)\u001b[0m\n\u001b[1;32m     13\u001b[0m \u001b[0;34m@\u001b[0m\u001b[0mno_globals_bad\u001b[0m\u001b[0;34m\u001b[0m\u001b[0;34m\u001b[0m\u001b[0m\n\u001b[1;32m     14\u001b[0m \u001b[0;32mdef\u001b[0m \u001b[0mtest_no_globals_bad_typo\u001b[0m\u001b[0;34m(\u001b[0m\u001b[0mx_typo\u001b[0m\u001b[0;34m,\u001b[0m \u001b[0mrepeat_typo\u001b[0m\u001b[0;34m)\u001b[0m\u001b[0;34m:\u001b[0m\u001b[0;34m\u001b[0m\u001b[0;34m\u001b[0m\u001b[0m\n\u001b[0;32m---> 15\u001b[0;31m     \u001b[0;32mreturn\u001b[0m \u001b[0mnp\u001b[0m\u001b[0;34m.\u001b[0m\u001b[0marray\u001b[0m\u001b[0;34m(\u001b[0m\u001b[0;34m[\u001b[0m\u001b[0mx\u001b[0m\u001b[0;34m]\u001b[0m\u001b[0;34m*\u001b[0m\u001b[0mrepeat\u001b[0m\u001b[0;34m)\u001b[0m\u001b[0;34m\u001b[0m\u001b[0;34m\u001b[0m\u001b[0m\n\u001b[0m",
      "\u001b[0;31mNameError\u001b[0m: name 'np' is not defined"
     ]
    }
   ],
   "source": [
    "# NOT WORKING\n",
    "print(\"NOT WORKING: MISSING NP IMPORT\")\n",
    "print(f\"test_no_globals_bad_typo(x, repeat) = {test_no_globals_bad_typo(x, repeat)}\")\n",
    "print(f\"test_no_globals_bad_typo(5, 10) = {test_no_globals_bad_typo(5, 10)}\")"
   ]
  }
 ],
 "metadata": {
  "jupytext": {
   "cell_metadata_filter": "-all",
   "main_language": "python",
   "notebook_metadata_filter": "-all",
   "text_representation": {
    "extension": ".py",
    "format_name": "light"
   }
  },
  "kernelspec": {
   "display_name": "Python 3 (ipykernel)",
   "language": "python",
   "name": "python3"
  },
  "language_info": {
   "codemirror_mode": {
    "name": "ipython",
    "version": 3
   },
   "file_extension": ".py",
   "mimetype": "text/x-python",
   "name": "python",
   "nbconvert_exporter": "python",
   "pygments_lexer": "ipython3",
   "version": "3.7.12"
  },
  "toc": {
   "base_numbering": 1,
   "nav_menu": {},
   "number_sections": true,
   "sideBar": true,
   "skip_h1_title": false,
   "title_cell": "Table of Contents",
   "title_sidebar": "Contents",
   "toc_cell": false,
   "toc_position": {},
   "toc_section_display": true,
   "toc_window_display": false
  },
  "varInspector": {
   "cols": {
    "lenName": 16,
    "lenType": 16,
    "lenVar": 40
   },
   "kernels_config": {
    "python": {
     "delete_cmd_postfix": "",
     "delete_cmd_prefix": "del ",
     "library": "var_list.py",
     "varRefreshCmd": "print(var_dic_list())"
    },
    "r": {
     "delete_cmd_postfix": ") ",
     "delete_cmd_prefix": "rm(",
     "library": "var_list.r",
     "varRefreshCmd": "cat(var_dic_list()) "
    }
   },
   "types_to_exclude": [
    "module",
    "function",
    "builtin_function_or_method",
    "instance",
    "_Feature"
   ],
   "window_display": false
  }
 },
 "nbformat": 4,
 "nbformat_minor": 5
}
